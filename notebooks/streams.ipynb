{
 "cells": [
  {
   "cell_type": "markdown",
   "source": [
    "# Stream order"
   ],
   "metadata": {}
  },
  {
   "cell_type": "markdown",
   "source": [
    "Here we assume that flow directions are known. We read the flow direction raster data, including meta-data, using [rasterio](https://rasterio.readthedocs.io/en/latest/) and parse it to a pyflwdir `FlwDirRaster` object, see earlier examples for more background."
   ],
   "metadata": {}
  },
  {
   "cell_type": "code",
   "execution_count": null,
   "source": [
    "# import pyflwdir, some dependencies and convenience methods\n",
    "import geopandas as gpd\n",
    "import numpy as np\n",
    "import rasterio\n",
    "from utils import quickplot, colors, cm  # data specific quick plot method\n",
    "import pyflwdir\n",
    "\n",
    "# read and parse data\n",
    "with rasterio.open(\"rhine_d8.tif\", \"r\") as src:\n",
    "    flwdir = src.read(1)\n",
    "    crs = src.crs\n",
    "    flw = pyflwdir.from_array(\n",
    "        flwdir,\n",
    "        ftype=\"d8\",\n",
    "        transform=src.transform,\n",
    "        latlon=crs.is_geographic,\n",
    "        cache=True,\n",
    "    )"
   ],
   "outputs": [],
   "metadata": {}
  },
  {
   "cell_type": "markdown",
   "source": [
    "## Strahler stream order"
   ],
   "metadata": {}
  },
  {
   "cell_type": "markdown",
   "source": [
    "In the **strahler** \"top down\" stream order map, rivers of the first order are\r\n",
    "the most upstream tributaries or head water cells. If two streams of the same\r\n",
    "order merge, the resulting stream has an order of one higher.\r\n",
    "If two rivers with different stream orders merge, the resulting stream is\r\n",
    "given the maximum of the two order."
   ],
   "metadata": {}
  },
  {
   "cell_type": "code",
   "execution_count": null,
   "source": [
    "# first define streams based on an upstream area threshold, here 100 km2\n",
    "stream_mask = flw.upstream_area(\"km2\") > 100"
   ],
   "outputs": [],
   "metadata": {}
  },
  {
   "cell_type": "code",
   "execution_count": null,
   "source": [
    "# calculate the stream orders for these streams\n",
    "strahler = flw.stream_order(type=\"strahler\", mask=stream_mask)"
   ],
   "outputs": [],
   "metadata": {}
  },
  {
   "cell_type": "code",
   "execution_count": null,
   "source": [
    "# vectorize stream order for plotting\n",
    "feats = flw.streams(stream_mask, strord=strahler)\n",
    "gdf = gpd.GeoDataFrame.from_features(feats, crs=crs)"
   ],
   "outputs": [],
   "metadata": {}
  },
  {
   "cell_type": "code",
   "execution_count": null,
   "source": [
    "# properties passed to the GeoDataFrame.plot method\n",
    "gpd_plot_kwds = dict(\n",
    "    column=\"strord\",\n",
    "    cmap=colors.ListedColormap(cm.Blues(np.linspace(0.4, 1, 7))),\n",
    "    legend=True,\n",
    "    categorical=True,\n",
    "    legend_kwds=dict(loc=\"lower right\", title=\"Strahler order [-]\"),\n",
    ")\n",
    "# plot streams with hillshade from elevation data (see utils.py)\n",
    "ax = quickplot(\n",
    "    gdfs=[(gdf, gpd_plot_kwds)], title=\"Strahler order\", filename=\"flw_strord_strahler\"\n",
    ")"
   ],
   "outputs": [],
   "metadata": {}
  },
  {
   "cell_type": "markdown",
   "source": [
    "## Classic stream order"
   ],
   "metadata": {}
  },
  {
   "cell_type": "markdown",
   "source": [
    "In the **classic** \"bottum up\" stream order map, the main river stem has order 1.\r\n",
    "Each tributary is given a number one greater than that of the\r\n",
    "river or stream into which they discharge."
   ],
   "metadata": {}
  },
  {
   "cell_type": "code",
   "execution_count": null,
   "source": [
    "strord = flw.stream_order(type=\"classic\", mask=stream_mask)"
   ],
   "outputs": [],
   "metadata": {}
  },
  {
   "cell_type": "code",
   "execution_count": null,
   "source": [
    "# vectorize stream order for plotting purposes\n",
    "feats1 = flw.streams(stream_mask, strord=strord)\n",
    "gdf1 = gpd.GeoDataFrame.from_features(feats1, crs=crs)"
   ],
   "outputs": [],
   "metadata": {}
  },
  {
   "cell_type": "code",
   "execution_count": null,
   "source": [
    "# properties passed to the GeoDataFrame.plot method\n",
    "gpd_plot_kwds = dict(\n",
    "    column=\"strord\",\n",
    "    cmap=colors.ListedColormap(cm.Greens_r(np.linspace(0, 0.8, 6))),\n",
    "    legend=True,\n",
    "    categorical=True,\n",
    "    legend_kwds=dict(loc=\"lower right\", title=\"Stream order [-]\"),\n",
    ")\n",
    "# plot streams with hillshade from elevation data (see utils.py)\n",
    "ax = quickplot(\n",
    "    gdfs=[(gdf1, gpd_plot_kwds)],\n",
    "    title=\"Classic stream order\",\n",
    "    filename=\"flw_strord_classic\",\n",
    ")"
   ],
   "outputs": [],
   "metadata": {}
  }
 ],
 "metadata": {
  "orig_nbformat": 4,
  "language_info": {
   "name": "python",
   "version": "3.9.7",
   "mimetype": "text/x-python",
   "codemirror_mode": {
    "name": "ipython",
    "version": 3
   },
   "pygments_lexer": "ipython3",
   "nbconvert_exporter": "python",
   "file_extension": ".py"
  },
  "kernelspec": {
   "name": "python3",
   "display_name": "Python 3.9.7 64-bit ('pyflwdir': conda)"
  },
  "interpreter": {
   "hash": "1d6565df54f631b3318aa7a4d6d8532e5ca49bf98056c57553f6cb4464998323"
  }
 },
 "nbformat": 4,
 "nbformat_minor": 2
}