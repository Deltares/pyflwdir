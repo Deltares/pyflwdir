{
 "cells": [
  {
   "cell_type": "markdown",
   "metadata": {},
   "source": [
    "# Stream order"
   ]
  },
  {
   "cell_type": "markdown",
   "metadata": {},
   "source": [
    "Here we assume that flow directions are known. We read the flow direction raster data, including meta-data, using [rasterio](https://rasterio.readthedocs.io/en/latest/) and parse it to a pyflwdir `FlwDirRaster` object, see earlier examples for more background."
   ]
  },
  {
   "cell_type": "code",
   "execution_count": null,
   "metadata": {},
   "outputs": [],
   "source": [
    "# import pyflwdir, some dependencies and convenience methods\n",
    "import geopandas as gpd\n",
    "import numpy as np\n",
    "import rasterio\n",
    "import pyflwdir\n",
    "\n",
    "# local convenience methods (see utils.py script in notebooks folder)\n",
    "from utils import quickplot, colors, cm  # data specific quick plot method\n",
    "\n",
    "# read and parse data\n",
    "with rasterio.open(\"rhine_d8.tif\", \"r\") as src:\n",
    "    flwdir = src.read(1)\n",
    "    crs = src.crs\n",
    "    flw = pyflwdir.from_array(\n",
    "        flwdir,\n",
    "        ftype=\"d8\",\n",
    "        transform=src.transform,\n",
    "        latlon=crs.is_geographic,\n",
    "        cache=True,\n",
    "    )"
   ]
  },
  {
   "cell_type": "markdown",
   "metadata": {},
   "source": [
    "## Strahler stream order"
   ]
  },
  {
   "cell_type": "markdown",
   "metadata": {},
   "source": [
    "In the **strahler** \"top down\" stream order map, rivers of the first order are\n",
    "the most upstream tributaries or head water cells. If two streams of the same\n",
    "order merge, the resulting stream has an order of one higher.\n",
    "If two rivers with different stream orders merge, the resulting stream is\n",
    "given the maximum of the two order."
   ]
  },
  {
   "cell_type": "code",
   "execution_count": null,
   "metadata": {},
   "outputs": [],
   "source": [
    "# first define streams based on an upstream area threshold, here 100 km2\n",
    "stream_mask = flw.upstream_area(\"km2\") > 100"
   ]
  },
  {
   "cell_type": "code",
   "execution_count": null,
   "metadata": {},
   "outputs": [],
   "source": [
    "# calculate the stream orders for these streams\n",
    "strahler = flw.stream_order(type=\"strahler\", mask=stream_mask)"
   ]
  },
  {
   "cell_type": "code",
   "execution_count": null,
   "metadata": {},
   "outputs": [],
   "source": [
    "# vectorize stream order for plotting\n",
    "feats = flw.streams(stream_mask, strord=strahler)\n",
    "gdf = gpd.GeoDataFrame.from_features(feats, crs=crs)"
   ]
  },
  {
   "cell_type": "code",
   "execution_count": null,
   "metadata": {},
   "outputs": [],
   "source": [
    "# properties passed to the GeoDataFrame.plot method\n",
    "gpd_plot_kwds = dict(\n",
    "    column=\"strord\",\n",
    "    cmap=colors.ListedColormap(cm.Blues(np.linspace(0.4, 1, 7))),\n",
    "    legend=True,\n",
    "    categorical=True,\n",
    "    legend_kwds=dict(loc=\"lower right\", title=\"Strahler order [-]\"),\n",
    ")\n",
    "# plot streams with hillshade from elevation data (see utils.py)\n",
    "ax = quickplot(\n",
    "    gdfs=[(gdf, gpd_plot_kwds)], title=\"Strahler order\", filename=\"flw_strord_strahler\"\n",
    ")"
   ]
  },
  {
   "cell_type": "markdown",
   "metadata": {},
   "source": [
    "## Classic stream order"
   ]
  },
  {
   "cell_type": "markdown",
   "metadata": {},
   "source": [
    "In the **classic** \"bottum up\" stream order map, the main river stem has order 1.\n",
    "Each tributary is given a number one greater than that of the\n",
    "river or stream into which they discharge."
   ]
  },
  {
   "cell_type": "code",
   "execution_count": null,
   "metadata": {},
   "outputs": [],
   "source": [
    "strord = flw.stream_order(type=\"classic\", mask=stream_mask)"
   ]
  },
  {
   "cell_type": "code",
   "execution_count": null,
   "metadata": {},
   "outputs": [],
   "source": [
    "# vectorize stream order for plotting purposes\n",
    "feats1 = flw.streams(stream_mask, strord=strord)\n",
    "gdf1 = gpd.GeoDataFrame.from_features(feats1, crs=crs)"
   ]
  },
  {
   "cell_type": "code",
   "execution_count": null,
   "metadata": {},
   "outputs": [],
   "source": [
    "# properties passed to the GeoDataFrame.plot method\n",
    "gpd_plot_kwds = dict(\n",
    "    column=\"strord\",\n",
    "    cmap=colors.ListedColormap(cm.Greens_r(np.linspace(0, 0.8, 6))),\n",
    "    legend=True,\n",
    "    categorical=True,\n",
    "    legend_kwds=dict(loc=\"lower right\", title=\"Stream order [-]\"),\n",
    ")\n",
    "# plot streams with hillshade from elevation data (see utils.py)\n",
    "ax = quickplot(\n",
    "    gdfs=[(gdf1, gpd_plot_kwds)],\n",
    "    title=\"Classic stream order\",\n",
    "    filename=\"flw_strord_classic\",\n",
    ")"
   ]
  }
 ],
 "metadata": {
  "interpreter": {
   "hash": "1d6565df54f631b3318aa7a4d6d8532e5ca49bf98056c57553f6cb4464998323"
  },
  "kernelspec": {
   "display_name": "Python 3.9.7 64-bit ('pyflwdir': conda)",
   "name": "python3"
  },
  "language_info": {
   "codemirror_mode": {
    "name": "ipython",
    "version": 3
   },
   "file_extension": ".py",
   "mimetype": "text/x-python",
   "name": "python",
   "nbconvert_exporter": "python",
   "pygments_lexer": "ipython3",
   "version": "3.9.7"
  },
  "orig_nbformat": 4
 },
 "nbformat": 4,
 "nbformat_minor": 2
}
