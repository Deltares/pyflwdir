{
 "cells": [
  {
   "cell_type": "markdown",
   "source": [
    "# Flow direction data"
   ],
   "metadata": {}
  },
  {
   "cell_type": "markdown",
   "source": [
    "The `FlwdirRaster` object is at the core of the pyflwdir package.\r\n",
    "It contains gridded flow direction data, parsed to an actionable common format\r\n",
    "which describes the linear index of the next dowsntream cell.\r\n",
    "\r\n",
    "Currently we support two local flow direction (D8) data types according to the arcgis **D8** and pcraster **LDD** conventions (see figure), and one global flow direction type according to the CaMa-Flood **NEXTXY** convention. Local flow direction data types describe the next downstream cell based on a relative direction from a cell towards one of its neighboring cells, while global flow direction types describe the next downstream cell based on its row and column indices. "
   ],
   "metadata": {}
  },
  {
   "cell_type": "markdown",
   "source": [
    "<!-- ![](../docs/_static/ftypes.png \"Local flow direction types\") -->\r\n",
    "<img src=\"../docs/_static/ftypes.png\" width=\"500\"/>"
   ],
   "metadata": {}
  },
  {
   "cell_type": "markdown",
   "source": [
    "We read the flow direction raster data, including meta-data, using [rasterio](https://rasterio.readthedocs.io/en/latest/)"
   ],
   "metadata": {}
  },
  {
   "cell_type": "code",
   "execution_count": null,
   "source": [
    "import rasterio\n",
    "\n",
    "with rasterio.open(\"rhine_d8.tif\", \"r\") as src:\n",
    "    flwdir = src.read(1)\n",
    "    transform = src.transform\n",
    "    crs = src.crs\n",
    "    latlon = crs.to_epsg() == 4326"
   ],
   "outputs": [],
   "metadata": {}
  },
  {
   "cell_type": "markdown",
   "source": [
    "Next, we parse this data to a `FlwdirRaster` object, the core object \r\n",
    "to work with flow direction data. In this step the D8 data is parsed to an actionable format."
   ],
   "metadata": {}
  },
  {
   "cell_type": "markdown",
   "source": [
    "<div class=\"alert alert-info\">\r\n",
    "\r\n",
    "NOTE: that for most methods a first call might be a bit slow as the numba code is compiled just in time, a second call of the same methods (also with different arguments) will be much faster!\r\n",
    "    \r\n",
    "</div>\r\n"
   ],
   "metadata": {}
  },
  {
   "cell_type": "code",
   "execution_count": null,
   "source": [
    "import pyflwdir\n",
    "\n",
    "flw = pyflwdir.from_array(\n",
    "    flwdir, ftype=\"d8\", transform=transform, latlon=latlon, cache=True\n",
    ")"
   ],
   "outputs": [],
   "metadata": {}
  },
  {
   "cell_type": "code",
   "execution_count": null,
   "source": [
    "# When printing the FlwdirRaster instance we see its attributes.\n",
    "print(flw)"
   ],
   "outputs": [],
   "metadata": {}
  },
  {
   "cell_type": "markdown",
   "source": [
    "We can than make use of the many methods of the `FlwdirRaster` object, see \r\n",
    "[FlwdirRaster API](reference.rst)."
   ],
   "metadata": {}
  },
  {
   "cell_type": "markdown",
   "source": [
    "To visualize the flow directions we derive the stream network as vector using the [streams()](reference.rst#pyflwdir.FlwdirRaster.streams) method.\r\n",
    "Each line element respresnets a stream segment with a minimal Strahler stream order of `min_sto`, as computed by [stream_order()](reference.rst#pyflwdir.FlwdirRaster.stream_order).\r\n",
    "The line elements (geo features) are parsed to a [GeoDataFrame](https://geopandas.org/data_structures.html#geodataframe) object for visualization."
   ],
   "metadata": {}
  },
  {
   "cell_type": "code",
   "execution_count": null,
   "source": [
    "import geopandas as gpd\n",
    "\n",
    "feats = flw.streams(min_sto=4)\n",
    "gdf = gpd.GeoDataFrame.from_features(feats, crs=crs)\n",
    "gdf.head()"
   ],
   "outputs": [],
   "metadata": {}
  },
  {
   "cell_type": "code",
   "execution_count": null,
   "source": [
    "# plot\n",
    "import numpy as np\n",
    "from utils import quickplot, colors, cm  # data specific quick plot method\n",
    "\n",
    "# key-word arguments passed to GeoDataFrame.plot method\n",
    "gdf_plot_kwds = dict(\n",
    "    column=\"strord\", cmap=colors.ListedColormap(cm.Blues(np.linspace(0.4, 1, 7)))\n",
    ")\n",
    "# plot streams with hillshade from elevation data (see utils.py)\n",
    "ax = quickplot(gdfs=[(gdf, gdf_plot_kwds)], title=\"Streams\")"
   ],
   "outputs": [],
   "metadata": {}
  }
 ],
 "metadata": {
  "language_info": {
   "name": "python",
   "version": "3.9.2",
   "mimetype": "text/x-python",
   "codemirror_mode": {
    "name": "ipython",
    "version": 3
   },
   "pygments_lexer": "ipython3",
   "nbconvert_exporter": "python",
   "file_extension": ".py"
  },
  "kernelspec": {
   "name": "python3",
   "display_name": "Python 3.9.2 64-bit ('hydromt-dev': conda)"
  },
  "interpreter": {
   "hash": "87738ad7185ebd25f8ba4563c6bcdef2bf2a1f4eb16943d55de9ba19ff30811e"
  }
 },
 "nbformat": 4,
 "nbformat_minor": 4
}