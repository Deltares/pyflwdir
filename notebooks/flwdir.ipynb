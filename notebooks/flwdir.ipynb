﻿{
 "cells": [
  {
   "cell_type": "markdown",
   "metadata": {},
   "source": [
    "# Flow direction data"
   ]
  },
  {
   "cell_type": "markdown",
   "metadata": {},
   "source": [
    "The `FlwdirRaster` object is at the core of the pyflwdir package.\n",
    "It contains gridded flow direction data, parsed to an actionable common format\n",
    "which describes the linear index of the next dowsntream cell.\n",
    "\n",
    "Currently we support two local flow direction (D8) data types according to the arcgis **D8** convention and pcraster **LDD** convention one global flow direction type according to the CaMa-Flood **NEXTXY** convention. Local flow direction data types describe the next downstream cell based on a local direction towards one of its neighboring cells, while global flow direction types describe the next downstream cell based on a global index. "
   ]
  },
  {
   "cell_type": "markdown",
   "metadata": {},
   "source": [
    "## Getting started"
   ]
  },
  {
   "cell_type": "markdown",
   "metadata": {},
   "source": [
    "Here we show an example of a 30 arcsec D8 map of the Rhine basin which is saved in \n",
    "as 8-bit GeoTiff. "
   ]
  },
  {
   "cell_type": "markdown",
   "metadata": {},
   "source": [
    "First we import some libraries and setup a helper function make some quick plots later.\n"
   ]
  },
  {
   "cell_type": "code",
   "execution_count": null,
   "metadata": {},
   "outputs": [],
   "source": [
    "import matplotlib\n",
    "import matplotlib.pyplot as plt\n",
    "from matplotlib import cm, colors\n",
    "import cartopy.crs as ccrs\n",
    "import descartes\n",
    "import numpy as np\n",
    "np.random.seed(seed=101)\n",
    "matplotlib.rcParams['savefig.bbox'] = 'tight'\n",
    "matplotlib.rcParams['savefig.dpi'] = 256\n",
    "plt.style.use('seaborn-whitegrid')\n",
    "\n",
    "def quickplot(gdfs=[], maps=[], hillshade=True, title='', filename='flw', save=False):\n",
    "    fig = plt.figure(figsize=(8,15))\n",
    "    ax = fig.add_subplot(projection=ccrs.PlateCarree())\n",
    "    # plot hillshade background\n",
    "    if hillshade:\n",
    "        ls = matplotlib.colors.LightSource(azdeg=115, altdeg=45)\n",
    "        hillshade = ls.hillshade(np.ma.masked_equal(elevtn, -9999), vert_exag=1e3)\n",
    "        ax.imshow(hillshade, origin='upper', extent=flw.extent, cmap='Greys', alpha=0.3, zorder=0)\n",
    "    # plot geopandas GeoDataFrame\n",
    "    for gdf, kwargs in gdfs:\n",
    "        gdf.plot(ax=ax, **kwargs)\n",
    "    for data, nodata, kwargs in maps:\n",
    "        ax.imshow(np.ma.masked_equal(data, nodata), origin='upper', extent=flw.extent, **kwargs)\n",
    "    ax.set_aspect('equal')\n",
    "    ax.set_title(title, fontsize='large')\n",
    "    ax.text(0.01, 0.01, 'created with pyflwdir', transform=ax.transAxes, fontsize='large')\n",
    "    if save:\n",
    "        plt.savefig(f'{filename}.png')\n",
    "    return ax"
   ]
  },
  {
   "cell_type": "markdown",
   "metadata": {},
   "source": [
    "We read the flow direction and elevation raster data, including meta-data, using \n",
    "[rasterio](https://rasterio.readthedocs.io/en/latest/)"
   ]
  },
  {
   "cell_type": "code",
   "execution_count": null,
   "metadata": {},
   "outputs": [],
   "source": [
    "import rasterio\n",
    "with rasterio.open('../data/rhine_d8.tif', 'r') as src:\n",
    "    flwdir = src.read(1)\n",
    "    transform = src.transform\n",
    "    crs = src.crs\n",
    "    latlon = crs.to_epsg() == 4326\n",
    "with rasterio.open('../data/rhine_elv0.tif', 'r') as src:\n",
    "    elevtn = src.read(1)\n",
    "    prof = src.profile"
   ]
  },
  {
   "cell_type": "markdown",
   "metadata": {},
   "source": [
    "Next, we parse this data to a `FlwdirRaster` object, the core object \n",
    "to work with flow direction data. In this step the D8 data is parsed to an actionable format."
   ]
  },
  {
   "cell_type": "markdown",
   "metadata": {},
   "source": [
    "<div class=\"alert alert-info\">\n",
    "\n",
    "NOTE: that for most methods a first call might be a bit slow as the numba code is compiled just in time, a second call of the same methods (also with different arguments) will be much faster!\n",
    "    \n",
    "</div>\n"
   ]
  },
  {
   "cell_type": "code",
   "execution_count": null,
   "metadata": {},
   "outputs": [],
   "source": [
    "import pyflwdir\n",
    "flw = pyflwdir.from_array(flwdir, ftype='d8', transform=transform, latlon=latlon, cache=True)"
   ]
  },
  {
   "cell_type": "code",
   "execution_count": null,
   "metadata": {},
   "outputs": [],
   "source": [
    "# When printing the FlwdirRaster instance we see its attributes. \n",
    "print(flw)"
   ]
  },
  {
   "cell_type": "markdown",
   "metadata": {},
   "source": [
    "We can than make use of the many methods of the `FlwdirRaster` object, see \n",
    "[FlwdirRaster API](reference.rst)."
   ]
  },
  {
   "cell_type": "markdown",
   "metadata": {},
   "source": [
    "## Upstream Area"
   ]
  },
  {
   "cell_type": "markdown",
   "metadata": {},
   "source": [
    "The [upstream_area()](reference.rst#pyflwdir.FlwdirRaster.upstream_area) method calculates the area upstream of each cell based on the set flow directions. This map is input to many other functions, such as \n",
    "[pfafstetter()](reference.rst#pyflwdir.FlwdirRaster.pfafstetter), \n",
    "[upscale()](reference.rst#pyflwdir.FlwdirRaster.upscale) and \n",
    "[floodplains()](reference.rst#pyflwdir.FlwdirRaster.floodplains), see further below."
   ]
  },
  {
   "cell_type": "code",
   "execution_count": null,
   "metadata": {},
   "outputs": [],
   "source": [
    "# calculate upstream area\n",
    "uparea = flw.upstream_area(unit='km2')\n",
    "# plot with lognorm scale\n",
    "upa = (uparea, -9999, dict(cmap='Greens', alpha=0.8, norm=colors.LogNorm(vmin=1, vmax=1e5)))\n",
    "ax = quickplot(maps=[upa], hillshade=True, title='Upstream area', filename='flw_uparea')"
   ]
  },
  {
   "cell_type": "markdown",
   "metadata": {},
   "source": [
    "## Streams"
   ]
  },
  {
   "cell_type": "markdown",
   "metadata": {},
   "source": [
    "The [streams()](reference.rst#pyflwdir.FlwdirRaster.streams) method returns linestring geofeatures which represent streams with a minimal\n",
    "stream order of `min_sto`, as computed by [stream_order()](reference.rst#pyflwdir.FlwdirRaster.stream_order).\n",
    "The geofeatures to a [GeoDataFrame](https://geopandas.org/data_structures.html#geodataframe) object for visualization or writing to file."
   ]
  },
  {
   "cell_type": "code",
   "execution_count": null,
   "metadata": {},
   "outputs": [],
   "source": [
    "import geopandas as gpd\n",
    "feats = flw.streams(min_sto=4)\n",
    "gdf = gpd.GeoDataFrame.from_features(feats, crs=crs)"
   ]
  },
  {
   "cell_type": "code",
   "execution_count": null,
   "metadata": {},
   "outputs": [],
   "source": [
    "# plot\n",
    "# create nice colormap of Blues with less white\n",
    "cmap_streams = colors.ListedColormap(cm.Blues(np.linspace(0.4, 1, 7)))\n",
    "streams = (gdf, dict(column='strord', cmap=cmap_streams))\n",
    "ax = quickplot(gdfs=[streams], title='Streams', filename='flw_streams')"
   ]
  },
  {
   "cell_type": "code",
   "execution_count": null,
   "metadata": {},
   "outputs": [],
   "source": [
    "# the river GeoDataFrame can be saved to a GIS format with the to_file method\n",
    "# gdf.to_file('river.geojson', driver='GeoJSON')"
   ]
  },
  {
   "cell_type": "markdown",
   "metadata": {},
   "source": [
    "## Basins"
   ]
  },
  {
   "cell_type": "markdown",
   "metadata": {},
   "source": [
    "The [basins](reference.rst#pyflwdir.FlwdirRaster.basins) method delineates (sub)basins defined by its outlet location. \n",
    "By default the method uses pits from the flow direction raster as outlets to delineate basins, but if outlet locations are profided these are used instead. An additional streams argument can be added to make sure the outlet locations are snapped to the nearest downstream stream cell, using the [snap](reference.rst#pyflwdir.FlwdirRaster.snap) method under the hood. Here streams are defined by a minimum Strahler stream order of 4,"
   ]
  },
  {
   "cell_type": "code",
   "execution_count": null,
   "metadata": {},
   "outputs": [],
   "source": [
    "# we can use rasterio.features to vectorize basins\n",
    "from rasterio import features\n",
    "\n",
    "def vectorize(data, nodata, transform, crs=crs):\n",
    "    feats_gen = features.shapes(\n",
    "        data, mask=data!=nodata, transform=transform, connectivity=8,\n",
    "    )\n",
    "    feats = [\n",
    "        {\"geometry\": geom, \"properties\": {\"value\": val}}\n",
    "        for geom, val in list(feats_gen)\n",
    "    ]\n",
    "\n",
    "    # parse to geopandas for plotting / writing to file\n",
    "    gdf = gpd.GeoDataFrame.from_features(feats, crs=crs)\n",
    "    return gdf"
   ]
  },
  {
   "cell_type": "code",
   "execution_count": null,
   "metadata": {},
   "outputs": [],
   "source": [
    "# define output locations\n",
    "x, y = np.array([4.67916667, 7.60416667]), np.array([51.72083333, 50.3625])\n",
    "# delineate subbasins\n",
    "subbasins = flw.basins(xy=(x,y), streams=flw.stream_order()>=4)\n",
    "# vectorize\n",
    "gdf_bas = vectorize(subbasins.astype(np.int32), 0, flw.transform)\n",
    "# plot\n",
    "streams = (gdf[gdf['strord']>=6], dict(color='grey'))\n",
    "bas = (gdf_bas, dict(edgecolor='black', facecolor='none', linewidth=0.8))\n",
    "subbas = (subbasins, 0, dict(cmap='Set3', alpha=0.5))\n",
    "ax = quickplot([streams, bas], [subbas], title='Basins from point outlets', filename='flw_basins')"
   ]
  },
  {
   "cell_type": "markdown",
   "metadata": {},
   "source": [
    "The [subbasins()](reference.rst#pyflwdir.FlwdirRaster.subbasins) method creates subbasins at all confluences where each branch has a minimal stream order set by `min_sto`. An optional mask can be added to select a subset of the outlets (i.e. confluences) which are located inside the mask."
   ]
  },
  {
   "cell_type": "code",
   "execution_count": null,
   "metadata": {},
   "outputs": [],
   "source": [
    "# calculate subbasins with a minimum stream order 7\n",
    "subbas = flw.subbasins(min_sto=7, mask=None)\n",
    "gdf_subbas = vectorize(subbas.astype(np.int32), 0, flw.transform)\n",
    "\n",
    "#plot\n",
    "cmap = colors.ListedColormap(cm.Set3(np.random.rand(68))) # create a nice random colormap\n",
    "bas1 = (gdf_subbas, dict(edgecolor='black', facecolor='none', linewidth=0.8))\n",
    "subbas1 = (subbas, 0, dict(cmap=cmap, alpha=0.5))\n",
    "title='Subbasins based on a minimum stream order'\n",
    "ax = quickplot([streams, bas1], [subbas1], title=title, filename='flw_subbasins')"
   ]
  },
  {
   "cell_type": "markdown",
   "metadata": {},
   "source": [
    "Finally, the [pfafstetter()](reference.rst#pyflwdir.FlwdirRaster.pfafstetter) method creates subbasins with the hierarchical pfafstetter coding system. It is designed such that topological information is embedded in the code, which makes it easy to determine whether a subbasin is downstream of another subbasin. At each level the four largest subbasins have even numbers and five largest interbasins have odd numbers. The `depth` argument is used to set the number of subbasin levels, i.e.: `depth=1` nine, and with `depth=2` 81 sub/interbasins are found. The `pfafstetter` method requires the upstream area of each cell calculated, if not provided with the `uparea` argument is calculated on the fly."
   ]
  },
  {
   "cell_type": "code",
   "execution_count": null,
   "metadata": {},
   "outputs": [],
   "source": [
    "# get the first level nine pfafstetter basins\n",
    "pfafbas1 = flw.pfafstetter(depth=1, uparea=uparea)\n",
    "gdf_pfaf1 = vectorize(pfafbas1.astype(np.int32), 0, flw.transform)\n",
    "\n",
    "# plot\n",
    "pfafbas = (pfafbas1, 0, dict(cmap='Set3', alpha=0.5))\n",
    "pfaf1 = (gdf_pfaf1, dict(edgecolor='black', facecolor='none', linewidth=0.8))\n",
    "title='Subbasins based on pfafstetter coding (level=1)'\n",
    "ax = quickplot([streams, pfaf1], [pfafbas], title=title, filename='flw_pfafbas1')"
   ]
  },
  {
   "cell_type": "code",
   "execution_count": null,
   "metadata": {},
   "outputs": [],
   "source": [
    "# lets create a second pfafstetter layer\n",
    "pfafbas2 = flw.pfafstetter(depth=2, uparea=uparea)\n",
    "gdf_pfaf2 = vectorize(pfafbas2.astype(np.int32), 0, flw.transform)\n",
    "\n",
    "# plot\n",
    "pfaf2 = (gdf_pfaf2, dict(edgecolor='black', facecolor='none', linewidth=0.8))\n",
    "title='Subbasins based on pfafstetter coding (level=2)'\n",
    "ax = quickplot([pfaf2, streams], [pfafbas], title=title, filename='flw_pfafbas1')"
   ]
  },
  {
   "cell_type": "markdown",
   "metadata": {},
   "source": [
    "## Flow paths"
   ]
  },
  {
   "cell_type": "markdown",
   "metadata": {},
   "source": [
    "To trace flow paths downstream from a point, for instance to trace polutants from a \n",
    "point source, we can use the [path()](reference.rst#pyflwdir.FlwdirRaster.path) method. Here \n",
    "we trace three point sources along a maximum distance of 400 km. With the \n",
    "[snap()](reference.rst#pyflwdir.FlwdirRaster.snap) method we can find the nearest downstream stream for any given point and calculate\n",
    "the distance to this point."
   ]
  },
  {
   "cell_type": "code",
   "execution_count": null,
   "metadata": {},
   "outputs": [],
   "source": [
    "# flow paths return the list of linear indices \n",
    "xy=([8.92, 5.55, 8.50], [50.28, 49.80, 47.3])\n",
    "flowpaths, dists = flw.path(xy=xy, max_length=400e3, unit='m')\n",
    "# which we than use to vectorize to geofeatures \n",
    "feats = flw.geofeatures(flowpaths)\n",
    "gdf_paths = gpd.GeoDataFrame.from_features(feats, crs=crs).reset_index()\n",
    "gdf_pnts = gpd.GeoDataFrame(geometry=gpd.points_from_xy(*xy)).reset_index()\n",
    "# and plot\n",
    "pnt = (gdf_pnts, dict(column='index', cmap='tab10', s=60, marker='<', zorder=4))\n",
    "fp = (gdf_paths, dict(column='index', cmap='tab10', linewidth=2))\n",
    "title='Flow path from source points (<) with max. distance of 400 km)'\n",
    "ax = quickplot([streams, fp, pnt], title=title, filename='flw_path2')"
   ]
  },
  {
   "cell_type": "code",
   "execution_count": null,
   "metadata": {},
   "outputs": [],
   "source": [
    "# find nearest stream order 8 stream\n",
    "idxs1, dists = flw.snap(xy=xy, mask=flw.stream_order()>=8, unit='m')\n",
    "xy1 = flw.xy(idxs1)\n",
    "# which we than use to vectorize to geofeatures \n",
    "gdf_pnts1 = gpd.GeoDataFrame(geometry=gpd.points_from_xy(*xy1)).reset_index()\n",
    "# and plot\n",
    "pnt1 = (gdf_pnts1, dict(column='index', cmap='tab10', s=60, marker='o', zorder=4))\n",
    "title ='Snap points (<) to nearest stream order 8 stream (o).'\n",
    "ax = quickplot([pnt1, pnt, streams], title=title, filename='flw_snap')"
   ]
  },
  {
   "cell_type": "markdown",
   "metadata": {},
   "source": [
    "## height above nearest drain (HAND) and floodplains"
   ]
  },
  {
   "cell_type": "markdown",
   "metadata": {},
   "source": [
    "The [hand()](reference.rst#pyflwdir.FlwdirRaster.hand) method uses drainage-normalized topography and flowpaths to delineate the relative vertical distances (drop) to the nearest river (drain) as a proxy for the potential extent of flooding (Nobre et al. 2016). The pyflwdir implementation requires stream mask `drain` and elevation raster `elevtn`. The stream mask is typically determined based on a threshold on [upstream_area()](reference.rst#pyflwdir.FlwdirRaster.upstream_area) or [stream_order()](reference.rst#pyflwdir.FlwdirRaster.stream_order), but can also be set from rasterizing a vector stream file.\n",
    "\n",
    "\n",
    "Nobre, A. D. et al. (2016) \"HAND contour: a new proxy predictor of inundation extent\" Hydrol. Process. [doi:10.1002/hyp.10581](http://www.doi.org/10.1002/hyp.10581)"
   ]
  },
  {
   "cell_type": "code",
   "execution_count": null,
   "metadata": {},
   "outputs": [],
   "source": [
    "# HAND based on streams defined by a minimal upstream area of 1000 km2\n",
    "hand = flw.hand(drain=uparea>1000, elevtn=elevtn)\n",
    "# plot\n",
    "hand_map = (hand, -9999, dict(cmap='gist_earth_r', alpha=0.5, vmin=0, vmax=100))\n",
    "ax = quickplot(maps=[hand_map], title='Height above nearest drain (HAND)', filename='flw_hand')"
   ]
  },
  {
   "cell_type": "markdown",
   "metadata": {},
   "source": [
    "The [floodplains()](reference.rst#pyflwdir.FlwdirRaster.floodplains) method delineates geomorphic floodplain boundaries based on a power-law relation between upstream area and a maximum HAND contour as developed by Nardi et al (2019). Here, streams are defined based on a minimum upstream area threshold `upa_min` and floodplains on the scaling parameter `b` of the power-law relationship.\n",
    "\n",
    "Nardi F et al (2019) \"GFPLAIN250m, a global high-resolution dataset of Earth’s floodplains\" [doi:10.1038/sdata.2018.309](http://www.doi.org/10.1038/sdata.2018.309)"
   ]
  },
  {
   "cell_type": "code",
   "execution_count": null,
   "metadata": {},
   "outputs": [],
   "source": [
    "floodplains = flw.floodplains(elevtn=elevtn, uparea=uparea, upa_min=1000)\n",
    "# plot\n",
    "floodmap = (floodplains, -1, dict(cmap='Blues', alpha=0.3, vmin=0))\n",
    "ax = quickplot([streams], [floodmap], title='Geomorphic floodplains', filename='flw_floodplain')"
   ]
  },
  {
   "cell_type": "markdown",
   "metadata": {},
   "source": [
    "## Flow direction upscaling"
   ]
  },
  {
   "cell_type": "markdown",
   "metadata": {},
   "source": [
    "Methods to upcale flow directions are required as models often have a coarser resolution than elevation data used to build them. Instead of deriving flow directions from upscaled elevation data, it is better to directly upscaling the flow direction data itself. The [upscale()](reference.rst#pyflwdir.FlwdirRaster.upscale) method implements the recently developed Iterative Hydrography Upscaling (**IHU**) algorithm (Eilander et al 2020). The method takes high resolution flow directions and upstream area grid to iterativly determine the best stream segment to represent in each upscaled cell. This stream segment is than traced towards the next downstream upscaled cell to determine the upscaled flow directions. Full details can be found in the referenced paper.\n",
    "\n",
    "Eilander et al (2020) \"A hydrography upscaling method for scale invariant parametrization of distributed hydrological models\" HESSD [doi:10.5194/hess-2020-582](https://doi.org/10.5194/hess-2020-582)"
   ]
  },
  {
   "cell_type": "code",
   "execution_count": null,
   "metadata": {},
   "outputs": [],
   "source": [
    "s=10 # scale_factor\n",
    "flw1, idxs_out = flw.upscale(scale_factor=s, uparea=uparea, method='ihu')\n",
    "feats1 = flw1.streams(min_sto=2)\n",
    "gdf_stream1 = gpd.GeoDataFrame.from_features(feats1, crs=crs)\n",
    "stream1 = (gdf_stream1, dict(column='strord', cmap=cmap_streams))\n",
    "title=f'IHU Upscaled flow directions ({s}x)'\n",
    "ax = quickplot(gdfs=[stream1], title=title, filename=f'flw_upscale{s:2d}')"
   ]
  }
 ],
 "metadata": {
  "language_info": {
   "codemirror_mode": {
    "name": "ipython",
    "version": 3
   },
   "file_extension": ".py",
   "mimetype": "text/x-python",
   "name": "python",
   "nbconvert_exporter": "python",
   "pygments_lexer": "ipython3",
   "version": "3.8.6"
  }
 },
 "nbformat": 4,
 "nbformat_minor": 4
}
