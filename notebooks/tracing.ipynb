{
 "cells": [
  {
   "cell_type": "markdown",
   "source": [
    "# Tracing flow directions"
   ],
   "metadata": {}
  },
  {
   "cell_type": "markdown",
   "source": [
    "Here we assume that flow directions are known. We read the flow direction raster data, including meta-data, using [rasterio](https://rasterio.readthedocs.io/en/latest/) and parse it to a pyflwdir `FlwDirRaster` object, see earlier examples for more background."
   ],
   "metadata": {}
  },
  {
   "cell_type": "code",
   "execution_count": null,
   "source": [
    "# import pyflwdir, some dependencies and convenience methods\n",
    "import geopandas as gpd\n",
    "import numpy as np\n",
    "import rasterio\n",
    "from utils import vectorize  # convenience method to vectorize rasters\n",
    "from utils import quickplot, colors, cm  # data specific quick plot method\n",
    "import pyflwdir\n",
    "\n",
    "# read and parse data\n",
    "with rasterio.open(\"rhine_d8.tif\", \"r\") as src:\n",
    "    flwdir = src.read(1)\n",
    "    crs = src.crs\n",
    "    flw = pyflwdir.from_array(\n",
    "        flwdir,\n",
    "        ftype=\"d8\",\n",
    "        transform=src.transform,\n",
    "        latlon=crs.is_geographic,\n",
    "        cache=True,\n",
    "    )"
   ],
   "outputs": [],
   "metadata": {}
  },
  {
   "cell_type": "markdown",
   "source": [
    "## Flow paths"
   ],
   "metadata": {}
  },
  {
   "cell_type": "markdown",
   "source": [
    "To trace flow paths downstream from a point, for instance to trace polutants from a \r\n",
    "point source, we can use the [path()](reference.rst#pyflwdir.FlwdirRaster.path) method. Here \r\n",
    "we trace three point sources along a maximum distance of 400 km. "
   ],
   "metadata": {}
  },
  {
   "cell_type": "code",
   "execution_count": null,
   "source": [
    "# flow paths return the list of linear indices\n",
    "xy = ([8.92, 5.55, 8.50], [50.28, 49.80, 47.3])\n",
    "flowpaths, dists = flw.path(xy=xy, max_length=400e3, unit=\"m\")\n",
    "# note that all distances are nearly at the threshold\n",
    "dists / 1e3"
   ],
   "outputs": [],
   "metadata": {}
  },
  {
   "cell_type": "code",
   "execution_count": null,
   "source": [
    "# derive streams for visualization\n",
    "streams_feat = flw.streams(min_sto=6)\n",
    "gdf_streams = gpd.GeoDataFrame.from_features(streams_feat, crs=crs)\n",
    "streams = (gdf_streams, dict(color=\"grey\"))"
   ],
   "outputs": [],
   "metadata": {}
  },
  {
   "cell_type": "code",
   "execution_count": null,
   "source": [
    "# which we than use to vectorize to geofeatures\n",
    "feats = flw.geofeatures(flowpaths)\n",
    "gdf_paths = gpd.GeoDataFrame.from_features(feats, crs=crs).reset_index()\n",
    "gdf_pnts = gpd.GeoDataFrame(geometry=gpd.points_from_xy(*xy)).reset_index()\n",
    "# and plot\n",
    "pnt = (gdf_pnts, dict(column=\"index\", cmap=\"tab10\", s=60, marker=\"<\", zorder=4))\n",
    "fp = (gdf_paths, dict(column=\"index\", cmap=\"tab10\", linewidth=2))\n",
    "title = \"Flow path from source points (<) with max. distance of 400 km)\"\n",
    "ax = quickplot([streams, fp, pnt], title=title, filename=\"flw_path\")"
   ],
   "outputs": [],
   "metadata": {}
  },
  {
   "cell_type": "markdown",
   "source": [
    "## Snap points to stream"
   ],
   "metadata": {}
  },
  {
   "cell_type": "markdown",
   "source": [
    "With the [snap()](reference.rst#pyflwdir.FlwdirRaster.snap) method we can find the nearest downstream stream for any given point and calculate\r\n",
    "the distance to this point."
   ],
   "metadata": {}
  },
  {
   "cell_type": "code",
   "execution_count": null,
   "source": [
    "# find nearest stream order 8 stream\n",
    "idxs1, dists = flw.snap(xy=xy, mask=flw.stream_order() >= 8, unit=\"m\")\n",
    "# convert index to coordinates and Point Geo\n",
    "xy1 = flw.xy(idxs1)\n",
    "gdf_pnts1 = gpd.GeoDataFrame(geometry=gpd.points_from_xy(*xy1), crs=crs).reset_index()\n",
    "# print end locations\n",
    "print([f\"({x:.3f}, {y:.3f})\" for x, y in zip(*xy1)])"
   ],
   "outputs": [],
   "metadata": {}
  },
  {
   "cell_type": "code",
   "execution_count": null,
   "source": [
    "# plot\n",
    "pnt1 = (gdf_pnts1, dict(column=\"index\", cmap=\"tab10\", s=60, marker=\"o\", zorder=4))\n",
    "streams = (gdf_streams, dict(color=\"grey\"))\n",
    "title = \"Snap points (<) to nearest stream order 8 stream (o).\"\n",
    "ax = quickplot([streams, pnt1, pnt], title=title, filename=\"flw_snap\")"
   ],
   "outputs": [],
   "metadata": {}
  }
 ],
 "metadata": {
  "language_info": {
   "name": "python",
   "version": "3.9.7",
   "mimetype": "text/x-python",
   "codemirror_mode": {
    "name": "ipython",
    "version": 3
   },
   "pygments_lexer": "ipython3",
   "nbconvert_exporter": "python",
   "file_extension": ".py"
  },
  "kernelspec": {
   "name": "python3",
   "display_name": "Python 3.9.7 64-bit ('pyflwdir': conda)"
  },
  "interpreter": {
   "hash": "1d6565df54f631b3318aa7a4d6d8532e5ca49bf98056c57553f6cb4464998323"
  }
 },
 "nbformat": 4,
 "nbformat_minor": 4
}