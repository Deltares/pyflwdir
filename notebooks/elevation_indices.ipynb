{
 "cells": [
  {
   "cell_type": "markdown",
   "source": [
    "# Elevation indices"
   ],
   "metadata": {}
  },
  {
   "cell_type": "markdown",
   "source": [
    "Here we assume that flow directions are known. We read the flow direction raster data, including meta-data, using [rasterio](https://rasterio.readthedocs.io/en/latest/) and parse it to a pyflwdir `FlwDirRaster` object, see earlier examples for more background."
   ],
   "metadata": {}
  },
  {
   "cell_type": "code",
   "execution_count": null,
   "source": [
    "# import pyflwdir, some dependencies and convenience methods\n",
    "import geopandas as gpd\n",
    "import numpy as np\n",
    "import rasterio\n",
    "from utils import quickplot, plt  # data specific quick plot method\n",
    "import pyflwdir\n",
    "\n",
    "# read and parse flow direciton data\n",
    "with rasterio.open(\"rhine_d8.tif\", \"r\") as src:\n",
    "    flwdir = src.read(1)\n",
    "    crs = src.crs\n",
    "    extent = np.array(src.bounds)[[0, 2, 1, 3]]\n",
    "    flw = pyflwdir.from_array(\n",
    "        flwdir,\n",
    "        ftype=\"d8\",\n",
    "        transform=src.transform,\n",
    "        latlon=crs.is_geographic,\n",
    "        cache=True,\n",
    "    )\n",
    "# read elevation data\n",
    "with rasterio.open(\"rhine_elv0.tif\", \"r\") as src:\n",
    "    elevtn = src.read(1)"
   ],
   "outputs": [],
   "metadata": {}
  },
  {
   "cell_type": "markdown",
   "source": [
    "## height above nearest drain (HAND)"
   ],
   "metadata": {}
  },
  {
   "cell_type": "markdown",
   "source": [
    "The [hand()](reference.rst#pyflwdir.FlwdirRaster.hand) method uses drainage-normalized topography and flowpaths to delineate the relative vertical distances (drop) to the nearest river (drain) as a proxy for the potential extent of flooding ([Nobre et al. 2016](https://doi.org/10.1002/hyp.10581)). The pyflwdir implementation requires stream mask `drain` and elevation raster `elevtn`. The stream mask is typically determined based on a threshold on [upstream_area()](reference.rst#pyflwdir.FlwdirRaster.upstream_area) or [stream_order()](reference.rst#pyflwdir.FlwdirRaster.stream_order), but can also be set from rasterizing a vector stream file."
   ],
   "metadata": {}
  },
  {
   "cell_type": "code",
   "execution_count": null,
   "source": [
    "# first we derive the upstream area map\n",
    "uparea = flw.upstream_area(\"km2\")"
   ],
   "outputs": [],
   "metadata": {}
  },
  {
   "cell_type": "code",
   "execution_count": null,
   "source": [
    "# HAND based on streams defined by a minimal upstream area of 1000 km2\n",
    "hand = flw.hand(drain=uparea > 1000, elevtn=elevtn)\n",
    "# plot\n",
    "ax = quickplot(title=\"Height above nearest drain (HAND)\")\n",
    "im = ax.imshow(\n",
    "    np.ma.masked_equal(hand, -9999),\n",
    "    extent=extent,\n",
    "    cmap=\"gist_earth_r\",\n",
    "    alpha=0.5,\n",
    "    vmin=0,\n",
    "    vmax=150,\n",
    ")\n",
    "fig = plt.gcf()\n",
    "cax = fig.add_axes([0.82, 0.37, 0.02, 0.12])\n",
    "fig.colorbar(im, cax=cax, orientation=\"vertical\")\n",
    "cax.set_ylabel(\"HAND [m]\")\n",
    "plt.savefig(\"hand.png\")"
   ],
   "outputs": [],
   "metadata": {}
  },
  {
   "cell_type": "markdown",
   "source": [
    "## Floodplains"
   ],
   "metadata": {}
  },
  {
   "cell_type": "markdown",
   "source": [
    "The [floodplains()](reference.rst#pyflwdir.FlwdirRaster.floodplains) method delineates geomorphic floodplain boundaries based on a power-law relation between upstream area and a maximum HAND contour as developed by [Nardi et al (2019)](http://www.doi.org/10.1038/sdata.2018.309). Here, streams are defined based on a minimum upstream area threshold `upa_min` and floodplains on the scaling parameter `b` of the power-law relationship."
   ],
   "metadata": {}
  },
  {
   "cell_type": "code",
   "execution_count": null,
   "source": [
    "floodplains = flw.floodplains(elevtn=elevtn, uparea=uparea, upa_min=1000)\n",
    "# plot\n",
    "floodmap = (floodplains, -1, dict(cmap=\"Blues\", alpha=0.5, vmin=0))\n",
    "ax = quickplot(\n",
    "    raster=floodmap, title=\"Geomorphic floodplains\", filename=\"flw_floodplain\"\n",
    ")"
   ],
   "outputs": [],
   "metadata": {}
  }
 ],
 "metadata": {
  "language_info": {
   "name": "python",
   "version": "3.9.7",
   "mimetype": "text/x-python",
   "codemirror_mode": {
    "name": "ipython",
    "version": 3
   },
   "pygments_lexer": "ipython3",
   "nbconvert_exporter": "python",
   "file_extension": ".py"
  },
  "kernelspec": {
   "name": "python3",
   "display_name": "Python 3.9.7 64-bit ('pyflwdir': conda)"
  },
  "interpreter": {
   "hash": "1d6565df54f631b3318aa7a4d6d8532e5ca49bf98056c57553f6cb4464998323"
  }
 },
 "nbformat": 4,
 "nbformat_minor": 4
}