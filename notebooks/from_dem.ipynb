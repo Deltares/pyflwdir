{
 "cells": [
  {
   "cell_type": "markdown",
   "source": [
    "# Flow directions from elevation data"
   ],
   "metadata": {}
  },
  {
   "cell_type": "markdown",
   "source": [
    "Flow directions are typically derived from a conditioned (high resolution) Digital Elevation Models (DEMs) using the so-called 'steepest gradient' method. This method selects the lowest direct neighbor of each cell as its donstream flow direction. HydroMT implements the algorithm proposed by  [Wang & Liu (2006)](https://doi.org/10.1080/13658810500433453) which is used in this example."
   ],
   "metadata": {}
  },
  {
   "cell_type": "code",
   "execution_count": null,
   "source": [
    "import rasterio\n",
    "import numpy as np\n",
    "import pyflwdir\n",
    "from utils import (\n",
    "    quickplot,\n",
    "    colors,\n",
    "    cm,\n",
    "    plt,\n",
    ")  # data specific quick plot convenience method\n",
    "\n",
    "# read elevation data of the rhine basin using rasterio\n",
    "with rasterio.open(\"rhine_elv0.tif\", \"r\") as src:\n",
    "    elevtn = src.read(1)\n",
    "    nodata = src.nodata\n",
    "    transform = src.transform\n",
    "    crs = src.crs\n",
    "    extent = np.array(src.bounds)[[0, 2, 1, 3]]\n",
    "    latlon = src.crs.is_geographic\n",
    "    prof = src.profile"
   ],
   "outputs": [],
   "metadata": {}
  },
  {
   "cell_type": "code",
   "execution_count": null,
   "source": [
    "ax = quickplot(title=\"Elevation\")\n",
    "im = ax.imshow(\n",
    "    np.ma.masked_equal(elevtn, -9999),\n",
    "    extent=extent,\n",
    "    cmap=\"gist_earth_r\",\n",
    "    alpha=0.5,\n",
    "    vmin=0,\n",
    "    vmax=1000,\n",
    ")\n",
    "fig = plt.gcf()\n",
    "cax = fig.add_axes([0.8, 0.37, 0.02, 0.12])\n",
    "fig.colorbar(im, cax=cax, orientation=\"vertical\", extend=\"max\")\n",
    "cax.set_ylabel(\"elevation [m+EGM96]\")\n",
    "# plt.savefig('elevation.png', dpi=225, bbox_axis='tight')"
   ],
   "outputs": [],
   "metadata": {}
  },
  {
   "cell_type": "markdown",
   "source": [
    "## Derive flow direction"
   ],
   "metadata": {}
  },
  {
   "cell_type": "markdown",
   "source": [
    " \r\n",
    " Here we use the [from_dem()](reference.rst#pyflwdir.pyflwdir.from_dem) method to retrieve a [FlwDirRaster](reference.rst#pyflwdir.FlwdirRaster) object based on the flow directions as derived with steepest gradient algorithm. This method wraps the [dem.fill_depressions()](reference.rst#pyflwdir.dem.fill_depressions) method which returns a depression-filled elevation raster and a local flow directions array following the arcgis D8 convention.\r\n",
    " \r\n",
    " The algorithm assumes that outlets occur at the edge of valid elevation cells. Elevation depressions are filled based on its lowest pour point elevation. If the depression depth relative to the pour point is larger than the maximum pour point depth `max_depth` a pit is set at the depression local minimum elevation (not used in this example). Optionally, all flow direction can be forced towards a single outlet at the lowest edge cell by setting the `outlets='min'` keyword. The `trasform` and `latlon` arguments define the geospatial location of the data."
   ],
   "metadata": {}
  },
  {
   "cell_type": "markdown",
   "source": [
    "<div class=\"alert alert-info\">\r\n",
    "\r\n",
    "NOTE: that for most methods a first call might be a bit slow as the numba code is compiled just in time, a second call of the same methods (also with different arguments) will be much faster!\r\n",
    "    \r\n",
    "</div>"
   ],
   "metadata": {}
  },
  {
   "cell_type": "code",
   "execution_count": null,
   "source": [
    "# returns FlwDirRaster object\n",
    "flw = pyflwdir.from_dem(\n",
    "    data=elevtn,\n",
    "    nodata=src.nodata,\n",
    "    transform=transform,\n",
    "    latlon=latlon,\n",
    "    outlets=\"min\",\n",
    ")"
   ],
   "outputs": [],
   "metadata": {}
  },
  {
   "cell_type": "markdown",
   "source": [
    "We visualize the derived flow directions by plotting all streams with a minimum strahler order of 4, see [streams()](reference.rst#pyflwdir.FlwdirRaster.streams) method."
   ],
   "metadata": {}
  },
  {
   "cell_type": "code",
   "execution_count": null,
   "source": [
    "import geopandas as gpd\n",
    "\n",
    "feats = flw.streams(min_sto=4)\n",
    "gdf = gpd.GeoDataFrame.from_features(feats, crs=crs)"
   ],
   "outputs": [],
   "metadata": {}
  },
  {
   "cell_type": "code",
   "execution_count": null,
   "source": [
    "# create nice colormap of Blues with less white\n",
    "cmap_streams = colors.ListedColormap(cm.Blues(np.linspace(0.4, 1, 7)))\n",
    "gdf_plot_kwds = dict(column=\"strord\", cmap=cmap_streams)\n",
    "# plot streams with hillshade from elevation data (see utils.py)\n",
    "ax = quickplot(\n",
    "    gdfs=[(gdf, gdf_plot_kwds)],\n",
    "    title=\"Streams based steepest gradient algorithm\",\n",
    "    filename=\"flw_streams_steepest_gradient\",\n",
    ")"
   ],
   "outputs": [],
   "metadata": {}
  },
  {
   "cell_type": "markdown",
   "source": [
    "## Save flow direction raster"
   ],
   "metadata": {}
  },
  {
   "cell_type": "markdown",
   "source": [
    "With the [to_array()](reference.rst#pyflwdir.FlwdirRaster.to_array) method we can return a flow direction numpy array from the `FlwDirRaster` object in any supported convention. This can be saved to a geospatial raster file using rasterio as shown below."
   ],
   "metadata": {}
  },
  {
   "cell_type": "code",
   "execution_count": null,
   "source": [
    "d8_data = flw.to_array(ftype=\"d8\")\n",
    "d8_data"
   ],
   "outputs": [],
   "metadata": {}
  },
  {
   "cell_type": "code",
   "execution_count": null,
   "source": [
    "# update data type and nodata value properties which are different compared to the input elevation grid and write to geotif\n",
    "prof.update(dtype=d8_data.dtype, nodata=247)\n",
    "with rasterio.open(\"flwdir.tif\", \"w\", **prof) as src:\n",
    "    src.write(d8_data, 1)"
   ],
   "outputs": [],
   "metadata": {}
  }
 ],
 "metadata": {
  "orig_nbformat": 4,
  "language_info": {
   "name": "python",
   "version": "3.9.7",
   "mimetype": "text/x-python",
   "codemirror_mode": {
    "name": "ipython",
    "version": 3
   },
   "pygments_lexer": "ipython3",
   "nbconvert_exporter": "python",
   "file_extension": ".py"
  },
  "kernelspec": {
   "name": "python3",
   "display_name": "Python 3.9.7 64-bit ('pyflwdir': conda)"
  },
  "interpreter": {
   "hash": "1d6565df54f631b3318aa7a4d6d8532e5ca49bf98056c57553f6cb4464998323"
  }
 },
 "nbformat": 4,
 "nbformat_minor": 2
}