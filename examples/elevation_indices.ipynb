{
 "cells": [
  {
   "cell_type": "markdown",
   "metadata": {},
   "source": [
    "# Elevation indices"
   ]
  },
  {
   "cell_type": "markdown",
   "metadata": {},
   "source": [
    "Here we assume that flow directions are known. We read the flow direction raster data, including meta-data, using [rasterio](https://rasterio.readthedocs.io/en/latest/) and parse it to a pyflwdir `FlwDirRaster` object, see earlier examples for more background."
   ]
  },
  {
   "cell_type": "code",
   "execution_count": null,
   "metadata": {},
   "outputs": [],
   "source": [
    "# import pyflwdir, some dependencies and convenience methods\n",
    "import numpy as np\n",
    "import rasterio\n",
    "import pyflwdir\n",
    "\n",
    "# local convenience methods (see utils.py script in notebooks folder)\n",
    "from utils import quickplot, plt  # data specific quick plot method\n",
    "\n",
    "# read and parse flow direciton data\n",
    "with rasterio.open(\"rhine_d8.tif\", \"r\") as src:\n",
    "    flwdir = src.read(1)\n",
    "    crs = src.crs\n",
    "    extent = np.array(src.bounds)[[0, 2, 1, 3]]\n",
    "    flw = pyflwdir.from_array(\n",
    "        flwdir,\n",
    "        ftype=\"d8\",\n",
    "        transform=src.transform,\n",
    "        latlon=crs.is_geographic,\n",
    "        cache=True,\n",
    "    )\n",
    "# read elevation data\n",
    "with rasterio.open(\"rhine_elv0.tif\", \"r\") as src:\n",
    "    elevtn = src.read(1)"
   ]
  },
  {
   "cell_type": "markdown",
   "metadata": {},
   "source": [
    "## height above nearest drain (HAND)"
   ]
  },
  {
   "cell_type": "markdown",
   "metadata": {},
   "source": [
    "The [hand()](https://deltares.github.io/pyflwdir/latest/_generated/pyflwdir.FlwdirRaster.hand.html) method uses drainage-normalized topography and flowpaths to delineate the relative vertical distances (drop) to the nearest river (drain) as a proxy for the potential extent of flooding ([Nobre et al. 2016](https://doi.org/10.1002/hyp.10581)). The pyflwdir implementation requires stream mask `drain` and elevation raster `elevtn`. The stream mask is typically determined based on a threshold on [upstream_area()](https://deltares.github.io/pyflwdir/latest/_generated/pyflwdir.FlwdirRaster.upstream_area.html) or [stream_order()](https://deltares.github.io/pyflwdir/latest/_generated/pyflwdir.FlwdirRaster.stream_order.html), but can also be set from rasterizing a vector stream file."
   ]
  },
  {
   "cell_type": "code",
   "execution_count": null,
   "metadata": {},
   "outputs": [],
   "source": [
    "# first we derive the upstream area map\n",
    "uparea = flw.upstream_area(\"km2\")"
   ]
  },
  {
   "cell_type": "code",
   "execution_count": null,
   "metadata": {},
   "outputs": [],
   "source": [
    "# HAND based on streams defined by a minimal upstream area of 1000 km2\n",
    "hand = flw.hand(drain=uparea > 1000, elevtn=elevtn)\n",
    "# plot\n",
    "ax = quickplot(title=\"Height above nearest drain (HAND)\")\n",
    "im = ax.imshow(\n",
    "    np.ma.masked_equal(hand, -9999),\n",
    "    extent=extent,\n",
    "    cmap=\"gist_earth_r\",\n",
    "    alpha=0.5,\n",
    "    vmin=0,\n",
    "    vmax=150,\n",
    ")\n",
    "fig = plt.gcf()\n",
    "cax = fig.add_axes([0.82, 0.37, 0.02, 0.12])\n",
    "fig.colorbar(im, cax=cax, orientation=\"vertical\")\n",
    "cax.set_ylabel(\"HAND [m]\")\n",
    "plt.savefig(\"hand.png\")"
   ]
  },
  {
   "cell_type": "markdown",
   "metadata": {},
   "source": [
    "## Floodplains"
   ]
  },
  {
   "cell_type": "markdown",
   "metadata": {},
   "source": [
    "The [floodplains()](https://deltares.github.io/pyflwdir/latest/_generated/pyflwdir.FlwdirRaster.floodplains.html) method delineates geomorphic floodplain boundaries based on a power-law relation between upstream area and a maximum HAND contour as developed by [Nardi et al (2019)](http://www.doi.org/10.1038/sdata.2018.309). Here, streams are defined based on a minimum upstream area threshold `upa_min` and floodplains on the scaling parameter `b` of the power-law relationship."
   ]
  },
  {
   "cell_type": "code",
   "execution_count": null,
   "metadata": {},
   "outputs": [],
   "source": [
    "floodplains = flw.floodplains(elevtn=elevtn, uparea=uparea, upa_min=1000)\n",
    "# plot\n",
    "floodmap = (floodplains, -1, dict(cmap=\"Blues\", alpha=0.5, vmin=0))\n",
    "ax = quickplot(\n",
    "    raster=floodmap, title=\"Geomorphic floodplains\", filename=\"flw_floodplain\"\n",
    ")"
   ]
  }
 ],
 "metadata": {
  "kernelspec": {
   "display_name": "Python 3.10.5 ('hydromt-dev')",
   "language": "python",
   "name": "python3"
  },
  "language_info": {
   "codemirror_mode": {
    "name": "ipython",
    "version": 3
   },
   "file_extension": ".py",
   "mimetype": "text/x-python",
   "name": "python",
   "nbconvert_exporter": "python",
   "pygments_lexer": "ipython3",
   "version": "3.10.5"
  },
  "vscode": {
   "interpreter": {
    "hash": "3808d5b5b54949c7a0a707a38b0a689040fa9c90ab139a050e41373880719ab1"
   }
  }
 },
 "nbformat": 4,
 "nbformat_minor": 4
}
