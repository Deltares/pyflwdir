{
 "cells": [
  {
   "cell_type": "markdown",
   "metadata": {},
   "source": [
    "# Flow direction data"
   ]
  },
  {
   "cell_type": "markdown",
   "metadata": {},
   "source": [
    "The `FlwdirRaster` object is at the core of the pyflwdir package.\n",
    "It contains gridded flow direction data, parsed to an actionable common format\n",
    "which describes the linear index of the next dowsntream cell.\n",
    "\n",
    "Currently we support two local flow direction (D8) data types according to the arcgis **D8** and pcraster **LDD** conventions (see figure), and one global flow direction type according to the CaMa-Flood **NEXTXY** convention. Local flow direction data types describe the next downstream cell based on a relative direction from a cell towards one of its neighboring cells, while global flow direction types describe the next downstream cell based on its row and column indices. "
   ]
  },
  {
   "cell_type": "markdown",
   "metadata": {},
   "source": [
    "<!-- ![](../docs/_static/ftypes.png \"Local flow direction types\") -->\n",
    "<img src=\"https://raw.githubusercontent.com/Deltares/pyflwdir/main/docs/_static/ftypes.png\" width=\"500\"/>"
   ]
  },
  {
   "cell_type": "markdown",
   "metadata": {},
   "source": [
    "We read the flow direction raster data, including meta-data, using [rasterio](https://rasterio.readthedocs.io/en/latest/)"
   ]
  },
  {
   "cell_type": "code",
   "execution_count": null,
   "metadata": {},
   "outputs": [],
   "source": [
    "import rasterio\n",
    "\n",
    "with rasterio.open(\"rhine_d8.tif\", \"r\") as src:\n",
    "    flwdir = src.read(1)\n",
    "    transform = src.transform\n",
    "    crs = src.crs\n",
    "    latlon = crs.to_epsg() == 4326"
   ]
  },
  {
   "cell_type": "markdown",
   "metadata": {},
   "source": [
    "Next, we parse this data to a `FlwdirRaster` object, the core object \n",
    "to work with flow direction data. In this step the D8 data is parsed to an actionable format."
   ]
  },
  {
   "cell_type": "markdown",
   "metadata": {},
   "source": [
    "<div class=\"alert alert-info\">\n",
    "\n",
    "NOTE: that for most methods a first call might be a bit slow as the numba code is compiled just in time, a second call of the same methods (also with different arguments) will be much faster!\n",
    "    \n",
    "</div>\n"
   ]
  },
  {
   "cell_type": "code",
   "execution_count": null,
   "metadata": {},
   "outputs": [],
   "source": [
    "import pyflwdir\n",
    "\n",
    "flw = pyflwdir.from_array(\n",
    "    flwdir, ftype=\"d8\", transform=transform, latlon=latlon, cache=True\n",
    ")"
   ]
  },
  {
   "cell_type": "code",
   "execution_count": null,
   "metadata": {},
   "outputs": [],
   "source": [
    "# When printing the FlwdirRaster instance we see its attributes.\n",
    "print(flw)"
   ]
  },
  {
   "cell_type": "markdown",
   "metadata": {},
   "source": [
    "We can than make use of the many methods of the `FlwdirRaster` object, see \n",
    "[FlwdirRaster API](https://deltares.github.io/pyflwdir/latest/_generated/pyflwdir.FlwdirRaster.html)."
   ]
  },
  {
   "cell_type": "markdown",
   "metadata": {},
   "source": [
    "To visualize the flow directions we derive the stream network as vector using the [streams()](https://deltares.github.io/pyflwdir/latest/_generated/pyflwdir.FlwdirRaster.streams.html) method.\n",
    "Each line element respresnets a stream segment with a minimal Strahler stream order of `min_sto`, as computed by [stream_order()](https://deltares.github.io/pyflwdir/latest/_generated/pyflwdir.FlwdirRaster.stream_order.html).\n",
    "The line elements (geo features) are parsed to a [GeoDataFrame](https://geopandas.org/data_structures.html#geodataframe) object for visualization."
   ]
  },
  {
   "cell_type": "code",
   "execution_count": null,
   "metadata": {},
   "outputs": [],
   "source": [
    "import geopandas as gpd\n",
    "\n",
    "feats = flw.streams(min_sto=4)\n",
    "gdf = gpd.GeoDataFrame.from_features(feats, crs=crs)\n",
    "gdf.head()"
   ]
  },
  {
   "cell_type": "code",
   "execution_count": null,
   "metadata": {},
   "outputs": [],
   "source": [
    "# plot\n",
    "import numpy as np\n",
    "\n",
    "# local convenience methods (see utils.py script in notebooks folder)\n",
    "from utils import quickplot, colors, cm  # data specific quick plot method\n",
    "\n",
    "# key-word arguments passed to GeoDataFrame.plot method\n",
    "gdf_plot_kwds = dict(\n",
    "    column=\"strord\", cmap=colors.ListedColormap(cm.Blues(np.linspace(0.4, 1, 7)))\n",
    ")\n",
    "# plot streams with hillshade from elevation data (see utils.py)\n",
    "ax = quickplot(gdfs=[(gdf, gdf_plot_kwds)], title=\"Streams\")"
   ]
  }
 ],
 "metadata": {
  "kernelspec": {
   "display_name": "Python 3.10.5 ('hydromt-dev')",
   "language": "python",
   "name": "python3"
  },
  "language_info": {
   "codemirror_mode": {
    "name": "ipython",
    "version": 3
   },
   "file_extension": ".py",
   "mimetype": "text/x-python",
   "name": "python",
   "nbconvert_exporter": "python",
   "pygments_lexer": "ipython3",
   "version": "3.10.5"
  },
  "vscode": {
   "interpreter": {
    "hash": "3808d5b5b54949c7a0a707a38b0a689040fa9c90ab139a050e41373880719ab1"
   }
  }
 },
 "nbformat": 4,
 "nbformat_minor": 4
}
