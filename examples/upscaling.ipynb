{
 "cells": [
  {
   "cell_type": "markdown",
   "metadata": {},
   "source": [
    "# Flow direction upscaling"
   ]
  },
  {
   "cell_type": "markdown",
   "metadata": {},
   "source": [
    "Here we assume that flow directions are known. We read the flow direction raster data, including meta-data, using [rasterio](https://rasterio.readthedocs.io/en/latest/) and parse it to a pyflwdir `FlwDirRaster` object, see earlier examples for more background."
   ]
  },
  {
   "cell_type": "code",
   "execution_count": null,
   "metadata": {},
   "outputs": [],
   "source": [
    "# import pyflwdir, some dependencies and convenience methods\n",
    "import geopandas as gpd\n",
    "import numpy as np\n",
    "import rasterio\n",
    "import pyflwdir\n",
    "\n",
    "# local convenience methods (see utils.py script in notebooks folder)\n",
    "from utils import quickplot, colors, cm  # data specific quick plot method\n",
    "\n",
    "# read and parse flow direciton data\n",
    "with rasterio.open(\"rhine_d8.tif\", \"r\") as src:\n",
    "    flwdir = src.read(1)\n",
    "    crs = src.crs\n",
    "    extent = np.array(src.bounds)[[0, 2, 1, 3]]\n",
    "    flw = pyflwdir.from_array(\n",
    "        flwdir,\n",
    "        ftype=\"d8\",\n",
    "        transform=src.transform,\n",
    "        latlon=crs.is_geographic,\n",
    "        cache=True,\n",
    "    )"
   ]
  },
  {
   "cell_type": "code",
   "execution_count": null,
   "metadata": {},
   "outputs": [],
   "source": [
    "# vectorize streams for visualization,\n",
    "uparea = flw.upstream_area()\n",
    "feats0 = flw.streams(uparea > 100, uparea=uparea)\n",
    "# base color and labels on log10 of upstream area\n",
    "gdf_stream0 = gpd.GeoDataFrame.from_features(feats0, crs=crs)\n",
    "gdf_stream0[\"logupa\"] = np.floor(np.log10(gdf_stream0[\"uparea\"])).astype(int)\n",
    "labels = {2: \"1e2-1e3\", 3: \"1e3-1e4\", 4: \"1e4-1e5\", 5: \"1e5-1e6\"}\n",
    "gdf_stream0[\"loglabs\"] = [labels[k] for k in gdf_stream0[\"logupa\"]]\n",
    "# kew-word arguments for GeoDataFrame.plot method\n",
    "gdf_plt_kwds = dict(\n",
    "    column=\"loglabs\",\n",
    "    cmap=colors.ListedColormap(cm.Blues(np.linspace(0.5, 1, 7))),\n",
    "    categorical=True,\n",
    "    legend=True,\n",
    "    legend_kwds=dict(title=\"Upstream area [km2]\"),\n",
    ")\n",
    "title = f\"Orignial flow directions (upstream area > 100 km2)\"\n",
    "ax = quickplot(\n",
    "    gdfs=[(gdf_stream0, gdf_plt_kwds)], title=title, filename=f\"flw_original\"\n",
    ")"
   ]
  },
  {
   "cell_type": "markdown",
   "metadata": {},
   "source": [
    "## Flow direction upscaling"
   ]
  },
  {
   "cell_type": "markdown",
   "metadata": {},
   "source": [
    "Methods to upcale flow directions are required as models often have a coarser resolution than the elevation data used to build them. Instead of deriving flow directions from upscaled elevation data, it is better to directly upscaling the flow direction data itself. The [upscale()](https://deltares.github.io/pyflwdir/latest/_generated/pyflwdir.FlwdirRaster.upscale.html) method implements the recently developed Iterative Hydrography Upscaling (**IHU**) algorithm ([Eilander et al 2020](https://doi.org/10.5194/hess-2020-582)). The method takes high resolution flow directions and upstream area grid to iterativly determine the best stream segment to represent in each upscaled cell. This stream segment is than traced towards the next downstream upscaled cell to determine the upscaled flow directions. Full details can be found in the referenced paper."
   ]
  },
  {
   "cell_type": "code",
   "execution_count": null,
   "metadata": {},
   "outputs": [],
   "source": [
    "# upscale using scale_factor s\n",
    "s = 10\n",
    "flw1, idxs_out = flw.upscale(scale_factor=s, uparea=uparea, method=\"ihu\")"
   ]
  },
  {
   "cell_type": "markdown",
   "metadata": {},
   "source": [
    "Several methods are implemented based on the most downstream high-res pixel of each upscaled cell, the so-called outlet pixels. The location of these pixels can be used to derive the contributing area to each cell using the [ucat_area()](https://deltares.github.io/pyflwdir/latest/_generated/pyflwdir.FlwdirRaster.ucat_area.html) method. "
   ]
  },
  {
   "cell_type": "code",
   "execution_count": null,
   "metadata": {},
   "outputs": [],
   "source": [
    "# get the contibuting unit area to each upscaled cell & accumulate\n",
    "subareas = flw.ucat_area(idxs_out=idxs_out, unit=\"km2\")[1]\n",
    "uparea1 = flw1.accuflux(subareas)"
   ]
  },
  {
   "cell_type": "code",
   "execution_count": null,
   "metadata": {},
   "outputs": [],
   "source": [
    "# assess the quality of the upscaling\n",
    "flwerr = flw.upscale_error(flw1, idxs_out)\n",
    "percentage_error = np.sum(flwerr == 0) / np.sum(flwerr != 255) * 100\n",
    "print(f\"upscaling error in {percentage_error:.2f}% of cells\")"
   ]
  },
  {
   "cell_type": "code",
   "execution_count": null,
   "metadata": {},
   "outputs": [],
   "source": [
    "# vectorize streams for visualization\n",
    "feats1 = flw1.streams(uparea1 > 100, uparea=uparea1)\n",
    "# base color and labels on log10 of upstream area\n",
    "gdf_stream1 = gpd.GeoDataFrame.from_features(feats1, crs=crs)\n",
    "gdf_stream1[\"logupa\"] = np.floor(np.log10(gdf_stream1[\"uparea\"])).astype(int)\n",
    "gdf_stream1[\"loglabs\"] = [labels[k] for k in gdf_stream1[\"logupa\"]]\n",
    "# plot\n",
    "title = f\"IHU Upscaled flow directions ({s}x)\"\n",
    "ax = quickplot(\n",
    "    gdfs=[(gdf_stream1, gdf_plt_kwds)], title=title, filename=f\"flw_upscale{s:2d}\"\n",
    ")"
   ]
  }
 ],
 "metadata": {
  "interpreter": {
   "hash": "1d6565df54f631b3318aa7a4d6d8532e5ca49bf98056c57553f6cb4464998323"
  },
  "kernelspec": {
   "display_name": "Python 3.9.7 64-bit ('pyflwdir': conda)",
   "name": "python3"
  },
  "language_info": {
   "codemirror_mode": {
    "name": "ipython",
    "version": 3
   },
   "file_extension": ".py",
   "mimetype": "text/x-python",
   "name": "python",
   "nbconvert_exporter": "python",
   "pygments_lexer": "ipython3",
   "version": "3.9.7"
  }
 },
 "nbformat": 4,
 "nbformat_minor": 4
}
