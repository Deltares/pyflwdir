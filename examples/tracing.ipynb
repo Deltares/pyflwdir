{
 "cells": [
  {
   "cell_type": "markdown",
   "metadata": {},
   "source": [
    "# Tracing flow directions"
   ]
  },
  {
   "cell_type": "markdown",
   "metadata": {},
   "source": [
    "Here we assume that flow directions are known. We read the flow direction raster data, including meta-data, using [rasterio](https://rasterio.readthedocs.io/en/latest/) and parse it to a pyflwdir `FlwDirRaster` object, see earlier examples for more background."
   ]
  },
  {
   "cell_type": "code",
   "execution_count": null,
   "metadata": {},
   "outputs": [],
   "source": [
    "# import pyflwdir, some dependencies and convenience methods\n",
    "import geopandas as gpd\n",
    "import numpy as np\n",
    "import rasterio\n",
    "import pyflwdir\n",
    "\n",
    "# local convenience methods (see utils.py script in notebooks folder)\n",
    "from utils import quickplot  # data specific quick plot method\n",
    "\n",
    "# read and parse data\n",
    "with rasterio.open(\"rhine_d8.tif\", \"r\") as src:\n",
    "    flwdir = src.read(1)\n",
    "    crs = src.crs\n",
    "    flw = pyflwdir.from_array(\n",
    "        flwdir,\n",
    "        ftype=\"d8\",\n",
    "        transform=src.transform,\n",
    "        latlon=crs.is_geographic,\n",
    "        cache=True,\n",
    "    )"
   ]
  },
  {
   "cell_type": "markdown",
   "metadata": {},
   "source": [
    "## Flow paths"
   ]
  },
  {
   "cell_type": "markdown",
   "metadata": {},
   "source": [
    "To trace flow paths downstream from a point, for instance to trace polutants from a \n",
    "point source, we can use the [path()](https://deltares.github.io/pyflwdir/latest/_generated/pyflwdir.FlwdirRaster.path.html) method. Here \n",
    "we trace three point sources along a maximum distance of 400 km. "
   ]
  },
  {
   "cell_type": "code",
   "execution_count": null,
   "metadata": {},
   "outputs": [],
   "source": [
    "# flow paths return the list of linear indices\n",
    "xy = ([8.92, 5.55, 8.50], [50.28, 49.80, 47.3])\n",
    "flowpaths, dists = flw.path(xy=xy, max_length=400e3, unit=\"m\")\n",
    "# note that all distances are nearly at the threshold\n",
    "dists / 1e3"
   ]
  },
  {
   "cell_type": "code",
   "execution_count": null,
   "metadata": {},
   "outputs": [],
   "source": [
    "# derive streams for visualization\n",
    "streams_feat = flw.streams(min_sto=6)\n",
    "gdf_streams = gpd.GeoDataFrame.from_features(streams_feat, crs=crs)\n",
    "streams = (gdf_streams, dict(color=\"grey\"))"
   ]
  },
  {
   "cell_type": "code",
   "execution_count": null,
   "metadata": {},
   "outputs": [],
   "source": [
    "# which we than use to vectorize to geofeatures\n",
    "feats = flw.geofeatures(flowpaths)\n",
    "gdf_paths = gpd.GeoDataFrame.from_features(feats, crs=crs).reset_index()\n",
    "gdf_pnts = gpd.GeoDataFrame(geometry=gpd.points_from_xy(*xy)).reset_index()\n",
    "# and plot\n",
    "pnt = (gdf_pnts, dict(column=\"index\", cmap=\"tab10\", s=60, marker=\"<\", zorder=4))\n",
    "fp = (gdf_paths, dict(column=\"index\", cmap=\"tab10\", linewidth=2))\n",
    "title = \"Flow path from source points (<) with max. distance of 400 km)\"\n",
    "ax = quickplot([streams, fp, pnt], title=title, filename=\"flw_path\")"
   ]
  },
  {
   "cell_type": "markdown",
   "metadata": {},
   "source": [
    "## Snap points to stream"
   ]
  },
  {
   "cell_type": "markdown",
   "metadata": {},
   "source": [
    "With the [snap()](https://deltares.github.io/pyflwdir/latest/_generated/pyflwdir.FlwdirRaster.snap.html) method we can find the nearest downstream stream for any given point and calculate\n",
    "the distance to this point."
   ]
  },
  {
   "cell_type": "code",
   "execution_count": null,
   "metadata": {},
   "outputs": [],
   "source": [
    "# find nearest stream order 8 stream\n",
    "idxs1, dists = flw.snap(xy=xy, mask=flw.stream_order() >= 8, unit=\"m\")\n",
    "# convert index to coordinates and Point Geo\n",
    "xy1 = flw.xy(idxs1)\n",
    "gdf_pnts1 = gpd.GeoDataFrame(geometry=gpd.points_from_xy(*xy1), crs=crs).reset_index()\n",
    "# print end locations\n",
    "print([f\"({x:.3f}, {y:.3f})\" for x, y in zip(*xy1)])"
   ]
  },
  {
   "cell_type": "code",
   "execution_count": null,
   "metadata": {},
   "outputs": [],
   "source": [
    "# plot\n",
    "pnt1 = (gdf_pnts1, dict(column=\"index\", cmap=\"tab10\", s=60, marker=\"o\", zorder=4))\n",
    "streams = (gdf_streams, dict(color=\"grey\"))\n",
    "title = \"Snap points (<) to nearest stream order 8 stream (o).\"\n",
    "ax = quickplot([streams, pnt1, pnt], title=title, filename=\"flw_snap\")"
   ]
  }
 ],
 "metadata": {
  "kernelspec": {
   "display_name": "Python 3.10.5 ('hydromt-dev')",
   "language": "python",
   "name": "python3"
  },
  "language_info": {
   "codemirror_mode": {
    "name": "ipython",
    "version": 3
   },
   "file_extension": ".py",
   "mimetype": "text/x-python",
   "name": "python",
   "nbconvert_exporter": "python",
   "pygments_lexer": "ipython3",
   "version": "3.10.5"
  },
  "vscode": {
   "interpreter": {
    "hash": "3808d5b5b54949c7a0a707a38b0a689040fa9c90ab139a050e41373880719ab1"
   }
  }
 },
 "nbformat": 4,
 "nbformat_minor": 4
}
