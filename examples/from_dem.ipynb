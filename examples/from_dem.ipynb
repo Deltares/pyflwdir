{
 "cells": [
  {
   "cell_type": "markdown",
   "metadata": {},
   "source": [
    "# Flow directions from elevation data"
   ]
  },
  {
   "cell_type": "markdown",
   "metadata": {},
   "source": [
    "Flow directions are typically derived from a conditioned (high resolution) Digital Elevation Models (DEMs) using the so-called 'steepest gradient' method. This method selects the lowest direct neighbor of each cell as its donstream flow direction. HydroMT implements the algorithm proposed by  [Wang & Liu (2006)](https://doi.org/10.1080/13658810500433453) which is used in this example."
   ]
  },
  {
   "cell_type": "code",
   "execution_count": null,
   "metadata": {},
   "outputs": [],
   "source": [
    "import rasterio\n",
    "import numpy as np\n",
    "import pyflwdir\n",
    "from utils import (\n",
    "    quickplot,\n",
    "    colors,\n",
    "    cm,\n",
    "    plt,\n",
    ")  # data specific quick plot convenience method\n",
    "\n",
    "# read elevation data of the rhine basin using rasterio\n",
    "with rasterio.open(\"rhine_elv0.tif\", \"r\") as src:\n",
    "    elevtn = src.read(1)\n",
    "    nodata = src.nodata\n",
    "    transform = src.transform\n",
    "    crs = src.crs\n",
    "    extent = np.array(src.bounds)[[0, 2, 1, 3]]\n",
    "    latlon = src.crs.is_geographic\n",
    "    prof = src.profile"
   ]
  },
  {
   "cell_type": "code",
   "execution_count": null,
   "metadata": {},
   "outputs": [],
   "source": [
    "ax = quickplot(title=\"Elevation\")\n",
    "im = ax.imshow(\n",
    "    np.ma.masked_equal(elevtn, -9999),\n",
    "    extent=extent,\n",
    "    cmap=\"gist_earth_r\",\n",
    "    alpha=0.5,\n",
    "    vmin=0,\n",
    "    vmax=1000,\n",
    ")\n",
    "fig = plt.gcf()\n",
    "cax = fig.add_axes([0.8, 0.37, 0.02, 0.12])\n",
    "fig.colorbar(im, cax=cax, orientation=\"vertical\", extend=\"max\")\n",
    "cax.set_ylabel(\"elevation [m+EGM96]\")\n",
    "# plt.savefig('elevation.png', dpi=225, bbox_axis='tight')"
   ]
  },
  {
   "cell_type": "markdown",
   "metadata": {},
   "source": [
    "## Derive flow direction"
   ]
  },
  {
   "cell_type": "markdown",
   "metadata": {},
   "source": [
    " \n",
    " Here we use the [from_dem()](https://deltares.github.io/pyflwdir/latest/_generated/pyflwdir.from_dem.html) method to retrieve a [FlwDirRaster](https://deltares.github.io/pyflwdir/latest/_generated/pyflwdir.FlwdirRaster.html) object based on the flow directions as derived with steepest gradient algorithm. This method wraps the [dem.fill_depressions()](https://deltares.github.io/pyflwdir/latest/_generated/pyflwdir.dem.fill_depressions.html) method which returns a depression-filled elevation raster and a local flow directions array following the arcgis D8 convention.\n",
    " \n",
    " The algorithm assumes that outlets occur at the edge of valid elevation cells. Elevation depressions are filled based on its lowest pour point elevation. If the depression depth relative to the pour point is larger than the maximum pour point depth `max_depth` a pit is set at the depression local minimum elevation (not used in this example). Optionally, all flow direction can be forced towards a single outlet at the lowest edge cell by setting the `outlets='min'` keyword. The `trasform` and `latlon` arguments define the geospatial location of the data."
   ]
  },
  {
   "cell_type": "markdown",
   "metadata": {},
   "source": [
    "<div class=\"alert alert-info\">\n",
    "\n",
    "NOTE: that for most methods a first call might be a bit slow as the numba code is compiled just in time, a second call of the same methods (also with different arguments) will be much faster!\n",
    "    \n",
    "</div>"
   ]
  },
  {
   "cell_type": "code",
   "execution_count": null,
   "metadata": {},
   "outputs": [],
   "source": [
    "# returns FlwDirRaster object\n",
    "flw = pyflwdir.from_dem(\n",
    "    data=elevtn,\n",
    "    nodata=src.nodata,\n",
    "    transform=transform,\n",
    "    latlon=latlon,\n",
    "    outlets=\"min\",\n",
    ")"
   ]
  },
  {
   "cell_type": "markdown",
   "metadata": {},
   "source": [
    "We visualize the derived flow directions by plotting all streams with a minimum strahler order of 4, see [streams()](https://deltares.github.io/pyflwdir/latest/_generated/pyflwdir.FlwdirRaster.streams.html) method."
   ]
  },
  {
   "cell_type": "code",
   "execution_count": null,
   "metadata": {},
   "outputs": [],
   "source": [
    "import geopandas as gpd\n",
    "\n",
    "feats = flw.streams(min_sto=4)\n",
    "gdf = gpd.GeoDataFrame.from_features(feats, crs=crs)"
   ]
  },
  {
   "cell_type": "code",
   "execution_count": null,
   "metadata": {},
   "outputs": [],
   "source": [
    "# create nice colormap of Blues with less white\n",
    "cmap_streams = colors.ListedColormap(cm.Blues(np.linspace(0.4, 1, 7)))\n",
    "gdf_plot_kwds = dict(column=\"strord\", cmap=cmap_streams)\n",
    "# plot streams with hillshade from elevation data (see utils.py)\n",
    "ax = quickplot(\n",
    "    gdfs=[(gdf, gdf_plot_kwds)],\n",
    "    title=\"Streams based steepest gradient algorithm\",\n",
    "    filename=\"flw_streams_steepest_gradient\",\n",
    ")"
   ]
  },
  {
   "cell_type": "markdown",
   "metadata": {},
   "source": [
    "## Save flow direction raster"
   ]
  },
  {
   "cell_type": "markdown",
   "metadata": {},
   "source": [
    "With the [to_array()](https://deltares.github.io/pyflwdir/latest/_generated/pyflwdir.FlwdirRaster.to_array.html) method we can return a flow direction numpy array from the `FlwDirRaster` object in any supported convention. This can be saved to a geospatial raster file using rasterio as shown below."
   ]
  },
  {
   "cell_type": "code",
   "execution_count": null,
   "metadata": {},
   "outputs": [],
   "source": [
    "d8_data = flw.to_array(ftype=\"d8\")\n",
    "d8_data"
   ]
  },
  {
   "cell_type": "code",
   "execution_count": null,
   "metadata": {},
   "outputs": [],
   "source": [
    "# update data type and nodata value properties which are different compared to the input elevation grid and write to geotif\n",
    "prof.update(dtype=d8_data.dtype, nodata=247)\n",
    "with rasterio.open(\"flwdir.tif\", \"w\", **prof) as src:\n",
    "    src.write(d8_data, 1)"
   ]
  }
 ],
 "metadata": {
  "kernelspec": {
   "display_name": "Python 3.10.5 ('hydromt-dev')",
   "language": "python",
   "name": "python3"
  },
  "language_info": {
   "codemirror_mode": {
    "name": "ipython",
    "version": 3
   },
   "file_extension": ".py",
   "mimetype": "text/x-python",
   "name": "python",
   "nbconvert_exporter": "python",
   "pygments_lexer": "ipython3",
   "version": "3.10.5"
  },
  "orig_nbformat": 4,
  "vscode": {
   "interpreter": {
    "hash": "3808d5b5b54949c7a0a707a38b0a689040fa9c90ab139a050e41373880719ab1"
   }
  }
 },
 "nbformat": 4,
 "nbformat_minor": 2
}
