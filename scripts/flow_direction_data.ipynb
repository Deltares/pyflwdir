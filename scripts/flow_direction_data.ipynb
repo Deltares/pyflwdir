{
 "cells": [
  {
   "cell_type": "code",
   "execution_count": null,
   "metadata": {},
   "outputs": [],
   "source": [
    "%matplotlib inline\n",
    "import matplotlib\n",
    "import matplotlib.pyplot as plt\n",
    "from matplotlib import cm, colors\n",
    "import cartopy.crs as ccrs\n",
    "import numpy as np\n",
    "matplotlib.rcParams['savefig.bbox'] = 'tight'\n",
    "matplotlib.rcParams['savefig.dpi'] = 256\n",
    "plt.style.use('seaborn-whitegrid')"
   ]
  },
  {
   "cell_type": "markdown",
   "metadata": {},
   "source": [
    "# Flow direction data"
   ]
  },
  {
   "cell_type": "markdown",
   "metadata": {},
   "source": [
    "The :py:class:`~pyflwdir.FlwdirRaster` object is at the core of the pyflwdir package.\n",
    "It contains gridded flow direction data, parsed to an actionable common format\n",
    "describing the linear index of the next dowsntream cell.\n",
    "\n",
    "Currently we support two local flow direction data types: **D8** and **LDD** and one global\n",
    "flow direction type: **NEXTXY**. Local flow direction data types describe the next \n",
    "downstream cell based on a local direction, while global flow direction types describe\n",
    "the next downstream cell based on a global index. The D8 and LDD flow direction types\n",
    "are shown in the image below"
   ]
  },
  {
   "cell_type": "code",
   "execution_count": null,
   "metadata": {},
   "outputs": [],
   "source": [
    "import pyflwdir\n",
    "fig, axes = plt.subplots(1,2, figsize=(6,4))\n",
    "\n",
    "ftypes = ['d8', 'ldd']\n",
    "for i, ftype in enumerate(ftypes):\n",
    "    core = getattr(pyflwdir, f'core_{ftype}')\n",
    "    ax = axes[i]\n",
    "    ax.set_title(ftype.upper(), fontsize='xx-large')\n",
    "    gdf = pyflwdir.from_array(core._us, ftype=ftype).vectorize()\n",
    "    coords = np.asarray([np.asarray(l.coords[:]).flatten() for l in gdf['geometry']])\n",
    "    gdf['U0'] = -(coords[:,2] - coords[:,0])\n",
    "    gdf['V0'] = -(coords[:,3] - coords[:,1])\n",
    "    gdf['X0'] = coords[:,2]\n",
    "    gdf['Y0'] = coords[:,3]\n",
    "    ax.quiver(gdf['X0'], gdf['Y0'], 0.8*gdf['U0'], 0.8*gdf['V0'],\n",
    "                  scale=1, angles='xy', scale_units='xy', units='xy', width=0.05, color='grey')\n",
    "\n",
    "    ax.set_xticks(np.arange(4))\n",
    "    ax.set_yticks(np.arange(4))\n",
    "    ax.set_xticklabels('')\n",
    "    ax.set_yticklabels('')\n",
    "    ax.set_aspect('equal')\n",
    "\n",
    "\n",
    "    for r in range(3):\n",
    "        for c in range(3):\n",
    "            ax.text(c+0.5, r+0.5, core._ds[-r-1,c], \n",
    "                    horizontalalignment='center', verticalalignment='center', zorder=2, fontsize='xx-large')\n",
    "\n",
    "plt.savefig(f'../docs/_static/ftypes.png')"
   ]
  },
  {
   "cell_type": "markdown",
   "metadata": {},
   "source": [
    "Most examples in the documentation are based on D8 data, but unless mentioned otherwise,\n",
    "the methods of FlwdirRaster support any of the aforementioned flow direction data types."
   ]
  },
  {
   "cell_type": "markdown",
   "metadata": {},
   "source": [
    "## Getting started"
   ]
  },
  {
   "cell_type": "markdown",
   "metadata": {},
   "source": [
    "Here we show an example of a 30 arcsec D8 map of the Rhine basin which is saved in \n",
    "as 8-bit GeoTiff. We read the data, including meta-data using rasterio to begin with."
   ]
  },
  {
   "cell_type": "code",
   "execution_count": null,
   "metadata": {},
   "outputs": [],
   "source": [
    "import rasterio\n",
    "with rasterio.open('../data/rhine_d8.tif', 'r') as src:\n",
    "    flwdir = src.read(1)\n",
    "    transform = src.transform\n",
    "    latlon = src.crs.to_epsg() == 4326\n",
    "with rasterio.open('../data/rhine_elv0.tif', 'r') as src:\n",
    "    elevtn = src.read(1)"
   ]
  },
  {
   "cell_type": "markdown",
   "metadata": {},
   "source": [
    "Next, we parse this data to a :py:class:`~pyflwdir.FlwdirRaster` object, the core object \n",
    "to work with flow direction data. In this step the D8 data is parsed to an actionable format."
   ]
  },
  {
   "cell_type": "code",
   "execution_count": null,
   "metadata": {},
   "outputs": [],
   "source": [
    "import pyflwdir\n",
    "flw = pyflwdir.from_array(flwdir, ftype='d8', transform=transform, latlon=latlon)\n",
    "# When printing the FlwdirRaster instance we see its attributes. \n",
    "print(flw)"
   ]
  },
  {
   "cell_type": "markdown",
   "metadata": {},
   "source": [
    "We can than make use of the many methods of the FlwdirRaster object, see :ref:`reference`."
   ]
  },
  {
   "cell_type": "markdown",
   "metadata": {},
   "source": [
    "## Streams"
   ]
  },
  {
   "cell_type": "markdown",
   "metadata": {},
   "source": [
    "For instance, :py:meth:`~pyflwdir.FlwdirRaster.stream_order` returns a map with the \n",
    "Strahler order of each cell. \n",
    "We can then use the vectorize method to return a :py:class:`geopandas.GeoDataFrame` \n",
    "object which we use for visualization."
   ]
  },
  {
   "cell_type": "markdown",
   "metadata": {},
   "source": [
    "First we setup a helper make some quick plots later.\n"
   ]
  },
  {
   "cell_type": "code",
   "execution_count": null,
   "metadata": {},
   "outputs": [],
   "source": [
    "import numpy as np\n",
    "def quickplot(gdfs=[], maps=[], hillshade=True):\n",
    "    fig = plt.figure()\n",
    "    ax = fig.add_subplot(projection=ccrs.PlateCarree())\n",
    "    # plot hillshade background\n",
    "    if hillshade:\n",
    "        ls = matplotlib.colors.LightSource(azdeg=115, altdeg=45)\n",
    "        hillshade = ls.hillshade(np.ma.masked_equal(elevtn, -9999), vert_exag=1e3)\n",
    "        ax.imshow(hillshade, origin='upper', extent=flw.extent, cmap='Greys', alpha=0.3, zorder=0)\n",
    "    # plot geopandas GeoDataFrame\n",
    "    for gdf, kwargs in gdfs:\n",
    "        gdf.plot(ax=ax, **kwargs)\n",
    "    for data, nodata, kwargs in maps:\n",
    "        ax.imshow(np.ma.masked_equal(data, nodata), origin='upper', extent=flw.extent, **kwargs)\n",
    "    return ax"
   ]
  },
  {
   "cell_type": "code",
   "execution_count": null,
   "metadata": {},
   "outputs": [],
   "source": [
    "stream_order = flw.stream_order()\n",
    "gdf = flw.vectorize(mask=stream_order>3)\n",
    "gdf['stream_order'] = stream_order.flat[gdf.index.values]\n",
    "# @savefig stream_order.png width=80%\n",
    "streams = (gdf, dict(column='stream_order', cmap='Blues'))\n",
    "quickplot([streams], maps=[])"
   ]
  },
  {
   "cell_type": "markdown",
   "metadata": {},
   "source": [
    "## Basins"
   ]
  },
  {
   "cell_type": "markdown",
   "metadata": {},
   "source": [
    "All cells draining to an defined cells can be delineated using the \n",
    ":py:meth:`~pyflwdir.FlwdirRaster.basins` method. The method by deafault delineates \n",
    "all cells flowing to the outlet, but if point locations are provided we can delineate \n",
    "subbasins using the same method. The streams argument is added to make sure the points \n",
    "are snapped to streams with a minimum Strahler order of 4."
   ]
  },
  {
   "cell_type": "code",
   "execution_count": null,
   "metadata": {},
   "outputs": [],
   "source": [
    "# define output locations\n",
    "x, y = np.array([4.67916667, 7.60416667]), np.array([51.72083333, 50.3625])\n",
    "# delineate subbasins\n",
    "subbasins = flw.basins(xy=(x,y), streams=stream_order>4)\n",
    "# add subbasins to map\n",
    "streams = (gdf[gdf['stream_order']>=6], dict(color='grey'))\n",
    "subbas = (subbasins, 0, dict(cmap='Set3', alpha=0.5))\n",
    "# @savefig subbasins.png width=80%\n",
    "quickplot([streams], [subbas], hillshade=True)"
   ]
  },
  {
   "cell_type": "code",
   "execution_count": null,
   "metadata": {},
   "outputs": [],
   "source": [
    "pfaf = flw.pfafstetter(flw.idxs_pit[0])\n",
    "# add subbasins to map\n",
    "pfafbas = (pfaf, 0, dict(cmap='Set3', alpha=0.6))\n",
    "# @savefig subbasins.png width=80%\n",
    "quickplot([streams], [pfafbas], hillshade=True)"
   ]
  },
  {
   "cell_type": "markdown",
   "metadata": {},
   "source": [
    "## Flow paths"
   ]
  },
  {
   "cell_type": "markdown",
   "metadata": {},
   "source": [
    "To trace flow paths downstream from a point, for instance to trace polutants from a \n",
    "point source, we can use the :py:meth:`~pyflwdir.FlwdirRaster.path` method. Here \n",
    "we trace three point sources along a maximum distance of 400 km."
   ]
  },
  {
   "cell_type": "code",
   "execution_count": null,
   "metadata": {},
   "outputs": [],
   "source": [
    "# flow paths return the list of linear indices \n",
    "paths, dists = flw.path(xy=([8.92, 5.55, 8.50], [50.28, 49.80, 47.3]), max_length=400e3, unit='m')\n",
    "# we use these paths to set flags in an array\n",
    "mask = np.zeros(flw.shape, dtype=np.bool)\n",
    "for i, path in enumerate(paths):\n",
    "    mask.flat[path] = 1\n",
    "# which we than use to vectorize an plot \n",
    "gdf_paths = flw.vectorize(mask=mask)\n",
    "quickplot([streams, (gdf_paths, dict(color='blue'))], maps=[], hillshade=True)"
   ]
  },
  {
   "cell_type": "markdown",
   "metadata": {},
   "source": [
    "## floodplains"
   ]
  },
  {
   "cell_type": "markdown",
   "metadata": {},
   "source": [
    "A simple method to delineate geomorphic floodplain boundaries is based on a power-law\n",
    "relation between upstream area and height above the nearest stream, \n",
    "see :py:meth:`~pyflwdir.FlwdirRaster.hand`. Here, streams are defined based on \n",
    "a minimum upstream area threshold `upa_min` and the scaling parameters `b` is an \n",
    "argument for the floodplains method."
   ]
  },
  {
   "cell_type": "code",
   "execution_count": null,
   "metadata": {},
   "outputs": [],
   "source": [
    "floodplains = flw.floodplains(elevtn=elevtn)\n",
    "floodmap = (floodplains, -9999, dict(cmap='Blues', alpha=0.3, vmin=0))\n",
    "quickplot([streams], [floodmap])"
   ]
  },
  {
   "cell_type": "code",
   "execution_count": null,
   "metadata": {},
   "outputs": [],
   "source": []
  }
 ],
 "metadata": {
  "kernelspec": {
   "display_name": "Python 3",
   "language": "python",
   "name": "python3"
  },
  "language_info": {
   "codemirror_mode": {
    "name": "ipython",
    "version": 3
   },
   "file_extension": ".py",
   "mimetype": "text/x-python",
   "name": "python",
   "nbconvert_exporter": "python",
   "pygments_lexer": "ipython3",
   "version": "3.8.6"
  }
 },
 "nbformat": 4,
 "nbformat_minor": 4
}
